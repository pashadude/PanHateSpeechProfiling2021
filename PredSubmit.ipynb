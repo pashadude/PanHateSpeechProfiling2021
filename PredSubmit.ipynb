{
 "cells": [
  {
   "cell_type": "code",
   "execution_count": 14,
   "id": "c44b1bb4",
   "metadata": {},
   "outputs": [],
   "source": [
    "from transformers import T5Tokenizer, T5ForConditionalGeneration, MT5ForConditionalGeneration, MT5Tokenizer\n",
    "import pandas as pd\n",
    "import numpy as np\n",
    "import os\n",
    "import re\n",
    "import xml.etree.ElementTree as ET\n",
    "from pathlib import Path\n",
    "from pandarallel import pandarallel"
   ]
  },
  {
   "cell_type": "code",
   "execution_count": 25,
   "id": "415c8a19",
   "metadata": {},
   "outputs": [],
   "source": [
    "def test_to_df(path):\n",
    "    pathlist = Path(path).glob('**/*.xml')\n",
    "    ids=[]\n",
    "    x_raw=[]\n",
    "    for path in pathlist:  \n",
    "        head, tail = os.path.split(path)\n",
    "        t=tail.split(\".\")\n",
    "        path_in_str = str(path)\n",
    "        tree = ET.parse(path_in_str)\n",
    "        root = tree.getroot()\n",
    "        for child in root:\n",
    "            xi=[]\n",
    "            for ch in child:\n",
    "                ids.append(t[0])\n",
    "                x_raw.append(ch.text)\n",
    "\n",
    "    test_df=pd.DataFrame()\n",
    "    test_df[\"id\"]=ids\n",
    "    test_df[\"tweets\"]=x_raw\n",
    "    return test_df"
   ]
  },
  {
   "cell_type": "code",
   "execution_count": 26,
   "id": "51c3895b",
   "metadata": {},
   "outputs": [],
   "source": [
    "esdf = test_to_df('es-test')\n",
    "endf = test_to_df('en-test')"
   ]
  },
  {
   "cell_type": "code",
   "execution_count": 27,
   "id": "55daa4ac",
   "metadata": {},
   "outputs": [],
   "source": [
    "SYMBOLS_TO_ISOLATE = '.,?!-;*\"…:—()%#$&_/@＼・ω+=”“[]^–>\\\\°<~•≠™ʊɒ∞§{}·τα❤☺ɡ|¢→̶`❥━┣┫┗Ｏ►★©―ɪ✔®\\x96\\x92●£♥➤´¹☕≈÷♡◐║▬′ɔː€۩۞†μ✒➥═☆ˌ◄½ʻπδηλσερνʃ✬ＳＵＰＥＲＩＴ☻±♍µº¾✓◾؟．⬅℅»Вав❣⋅¿¬♫ＣＭβ█▓▒░⇒⭐›¡₂₃❧▰▔◞▀▂▃▄▅▆▇↙γ̄″☹➡«φ⅓„✋：¥̲̅́∙‛◇✏▷❓❗¶˚˙）сиʿ✨。ɑ\\x80◕！％¯−ﬂﬁ₁²ʌ¼⁴⁄₄⌠♭✘╪▶☭✭♪☔☠♂☃☎✈✌✰❆☙○‣⚓年∎ℒ▪▙☏⅛ｃａｓǀ℮¸ｗ‚∼‖ℳ❄←☼⋆ʒ⊂、⅔¨͡๏⚾⚽Φ×θ￦？（℃⏩☮⚠月✊❌⭕▸■⇌☐☑⚡☄ǫ╭∩╮，例＞ʕɐ̣Δ₀✞┈╱╲▏▕┃╰▊▋╯┳┊≥☒↑☝ɹ✅☛♩☞ＡＪＢ◔◡↓♀⬆̱ℏ\\x91⠀ˤ╚↺⇤∏✾◦♬³の｜／∵∴√Ω¤☜▲↳▫‿⬇✧ｏｖｍ－２０８＇‰≤∕ˆ⚜☁'\n",
    "SYMBOLS_TO_REMOVE = '\\n\\r\\xa0\\ue014\\t\\uf818\\uf04a\\xad\\uf0e0\\u200b\\u200eعدويهصقأناخلىبمغرЕ\\u202a\\u202c🏻ᴍʏʀᴇɴᴅᴏᴀᴋʜᴜʟᴛᴄᴘʙғᴊᴡɢשלוםבי‼\\x81エンジ故障\\u2009ᴵ͞\\u200fאעכחஜᴠ‐\\x7fἐὶήιὲκἀίῃἴξＨ\\ufeff\\u2028\\u3000تحكسة👮💙فزط\\u2008🏾\\x08‑地獄谷улкнПоАН歌舞伎הмυтѕ⤵\\u200aэпрд\\x95\\u2002\\u2004ˢᵒʳʸᴼᴷᴺʷᵗʰᵉᵘ\\x13\\ue602άοόςέὸתמדףנרךצט\\uf0b7\\uf04c\\x9f\\x10成都\\u202d💤🍇\\ue613小土豆🏡❔⁉\\u202f👠》कर्मा🇹🇼🌸蔡英文🌞🎲レクサス外国人关系Сб💋💀🎄💜ьыгя不是\\x9c\\x9d🗑\\u2005💃📣༼つ༽ḷЗз▱ц￼卖温哥华议会下降你失去所有的钱加拿大坏税骗子🐝ツ🎅\\x85🍺آإشء🎵🌎͟ἔ油别克🤡й\\u2003🚀🤴ʲшчИОРФДЯМюж🖑ὐύύ特殊作戦群щ💨圆明园קℐ\\u200d𝓒𝓲𝓿𝓵안영하세요ЖљКћ🍀😫🤤ῦ我出生在了可以说普通话汉语好极🎼🕺🍸🥂🗽🎇🎊🆘🤠👩🖒🚪天一家⚲\\u2006⚭⚆⬭⬯⏖新✀╌🇫🇷🇩🇪🇮🇬🇧😷🇨🇦ХШ🌐\\x1f杀鸡给猴看ʁ𝗪𝗵𝗲𝗻𝘆𝗼𝘂𝗿𝗮𝗹𝗶𝘇𝗯𝘁𝗰𝘀𝘅𝗽𝘄𝗱📺ϖ\\u2000үսᴦᎥһͺ\\u2007հ\\u2001ɩｙｅ൦ｌƽｈ𝐓𝐡𝐞𝐫𝐮𝐝𝐚𝐃𝐜𝐩𝐭𝐢𝐨𝐧Ƅᴨןᑯ໐ΤᏧ௦Іᴑ܁𝐬𝐰𝐲𝐛𝐦𝐯𝐑𝐙𝐣𝐇𝐂𝐘𝟎ԜТᗞ౦〔Ꭻ𝐳𝐔𝐱𝟔𝟓𝐅🐋ﬃ💘💓ё𝘥𝘯𝘶💐🌋🌄🌅𝙬𝙖𝙨𝙤𝙣𝙡𝙮𝙘𝙠𝙚𝙙𝙜𝙧𝙥𝙩𝙪𝙗𝙞𝙝𝙛👺🐷ℋ𝐀𝐥𝐪🚶𝙢Ἱ🤘ͦ💸ج패티Ｗ𝙇ᵻ👂👃ɜ🎫\\uf0a7БУі🚢🚂ગુજરાતીῆ🏃𝓬𝓻𝓴𝓮𝓽𝓼☘﴾̯﴿₽\\ue807𝑻𝒆𝒍𝒕𝒉𝒓𝒖𝒂𝒏𝒅𝒔𝒎𝒗𝒊👽😙\\u200cЛ‒🎾👹⎌🏒⛸公寓养宠物吗🏄🐀🚑🤷操美𝒑𝒚𝒐𝑴🤙🐒欢迎来到阿拉斯ספ𝙫🐈𝒌𝙊𝙭𝙆𝙋𝙍𝘼𝙅ﷻ🦄巨收赢得白鬼愤怒要买额ẽ🚗🐳𝟏𝐟𝟖𝟑𝟕𝒄𝟗𝐠𝙄𝙃👇锟斤拷𝗢𝟳𝟱𝟬⦁マルハニチロ株式社⛷한국어ㄸㅓ니͜ʖ𝘿𝙔₵𝒩ℯ𝒾𝓁𝒶𝓉𝓇𝓊𝓃𝓈𝓅ℴ𝒻𝒽𝓀𝓌𝒸𝓎𝙏ζ𝙟𝘃𝗺𝟮𝟭𝟯𝟲👋🦊多伦🐽🎻🎹⛓🏹🍷🦆为和中友谊祝贺与其想象对法如直接问用自己猜本传教士没积唯认识基督徒曾经让相信耶稣复活死怪他但当们聊些政治题时候战胜因圣把全堂结婚孩恐惧且栗谓这样还♾🎸🤕🤒⛑🎁批判检讨🏝🦁🙋😶쥐스탱트뤼도석유가격인상이경제황을렵게만들지않록잘관리해야합다캐나에서대마초와화약금의품런성분갈때는반드시허된사용🔫👁凸ὰ💲🗯𝙈Ἄ𝒇𝒈𝒘𝒃𝑬𝑶𝕾𝖙𝖗𝖆𝖎𝖌𝖍𝖕𝖊𝖔𝖑𝖉𝖓𝖐𝖜𝖞𝖚𝖇𝕿𝖘𝖄𝖛𝖒𝖋𝖂𝕴𝖟𝖈𝕸👑🚿💡知彼百\\uf005𝙀𝒛𝑲𝑳𝑾𝒋𝟒😦𝙒𝘾𝘽🏐𝘩𝘨ὼṑ𝑱𝑹𝑫𝑵𝑪🇰🇵👾ᓇᒧᔭᐃᐧᐦᑳᐨᓃᓂᑲᐸᑭᑎᓀᐣ🐄🎈🔨🐎🤞🐸💟🎰🌝🛳点击查版🍭𝑥𝑦𝑧ＮＧ👣\\uf020っ🏉ф💭🎥Ξ🐴👨🤳🦍\\x0b🍩𝑯𝒒𝟐🏂👳🍗🕉🐲چی𝑮𝗕𝗴🍒ꜥⲣⲏ🐑⏰鉄リ事件ї💊「」\\uf203\\uf09a\\uf222\\ue608\\uf202\\uf099\\uf469\\ue607\\uf410\\ue600燻製シ虚偽屁理屈Г𝑩𝑰𝒀𝑺🌤𝗳𝗜𝗙𝗦𝗧🍊ὺἈἡχῖΛ⤏🇳𝒙ψՁմեռայինրւդձ冬至ὀ𝒁🔹🤚🍎𝑷🐂💅𝘬𝘱𝘸𝘷𝘐𝘭𝘓𝘖𝘹𝘲𝘫کΒώ💢ΜΟΝΑΕ🇱♲𝝈↴💒⊘Ȼ🚴🖕🖤🥘📍👈➕🚫🎨🌑🐻𝐎𝐍𝐊𝑭🤖🎎😼🕷ｇｒｎｔｉｄｕｆｂｋ𝟰🇴🇭🇻🇲𝗞𝗭𝗘𝗤👼📉🍟🍦🌈🔭《🐊🐍\\uf10aლڡ🐦\\U0001f92f\\U0001f92a🐡💳ἱ🙇𝗸𝗟𝗠𝗷🥜さようなら🔼'\n",
    "POSITIVE_EMOJI = '😜😎😁💖😀😂😄😋👏😊👍😃😘👌🙂😉😏🎉😅👻🙃😆🤗🤓😌🤑😛🤣😝💪😗🥰😇🤠🤡🥳🥴🤩😺😸😹😻😽✌️🤟🤘'\n",
    "NEGATIVE_EMOJI = '🥵😢👎😱😳😧🙀😐😕😮😖😟😡😠😤😞😭😥😔😓😪😨😩🙁😵😒͝😣😲😯🤢َِ😰👿👿🤥😬😷🤒🤕🤯🤬🥺🙀😿😾🖕🏻🖕🏼'\n",
    "FLAG_EMOJI = '🇯🇵🇰🇷🇩🇪🇨🇳🇺🇸🇫🇷🇪🇸🇮🇹🇲🇽🇮🇳🇷🇺🇬🇧'\n",
    "NEUTRAL_EMOJI = '🎤🐶️🍕🐵💵🔥💥🚌🌟💩💯⛽🚄🏼🚲😈🙏🎯🌹💔👊🙄⛺🍾🏽🎆🍻⏺🌏💞🚓🔔📚🏀👐🍽🎶🌺🤔🐰🐇🏈😺🌍🍔🐮🍁🍆🍑🌮🌯🤦🙈😴🆕👅👥👄🔄🔤👉👤🤧👶👲🔛🎓🏿🇺🇸🌠🐟💫💰🚬💎🐱🙆💕𝘊𝘦𝘳𝘢𝘵𝘰𝘤𝘺𝘴𝘪𝘧𝘮𝘣💗💚🐾🐕🔗🚽🏆🎃🖐🙅⛲🍰🤐👆🙌💛👀🙊🙉'\n",
    "ISOLATE_DICT = {ord(c):''.format(ord(c)) for c in SYMBOLS_TO_ISOLATE}\n",
    "REMOVE_DICT = {ord(c):'' for c in SYMBOLS_TO_REMOVE}\n",
    "FLAG_EMOJI_DICT = {ord(c):'' for c in FLAG_EMOJI}\n",
    "NEUTRAL_EMOJI_DICT = {ord(c):'' for c in NEUTRAL_EMOJI}\n",
    "POSITIVE_EMOJI_DICT = {ord(c):'' for c in POSITIVE_EMOJI}\n",
    "NEGATIVE_EMOJI_DICT = {ord(c):'' for c in NEGATIVE_EMOJI}\n",
    "CONTRACTION_MAPPING = {\"ain't\": \"is not\", \"aren't\": \"are not\",\"can't\": \"cannot\", \"'cause\": \"because\", \"could've\": \"could have\", \"couldn't\": \"could not\", \"didn't\": \"did not\",  \"doesn't\": \"does not\", \"don't\": \"do not\", \"hadn't\": \"had not\", \"hasn't\": \"has not\", \"haven't\": \"have not\", \"he'd\": \"he would\",\"he'll\": \"he will\", \"he's\": \"he is\", \"how'd\": \"how did\", \"how'd'y\": \"how do you\", \"how'll\": \"how will\", \"how's\": \"how is\",  \"I'd\": \"I would\", \"I'd've\": \"I would have\", \"I'll\": \"I will\", \"I'll've\": \"I will have\",\"I'm\": \"I am\", \"I've\": \"I have\", \"i'd\": \"i would\", \"i'd've\": \"i would have\", \"i'll\": \"i will\",  \"i'll've\": \"i will have\",\"i'm\": \"i am\", \"i've\": \"i have\", \"isn't\": \"is not\", \"it'd\": \"it would\", \"it'd've\": \"it would have\", \"it'll\": \"it will\", \"it'll've\": \"it will have\",\"it's\": \"it is\", \"let's\": \"let us\", \"ma'am\": \"madam\", \"mayn't\": \"may not\", \"might've\": \"might have\",\"mightn't\": \"might not\",\"mightn't've\": \"might not have\", \"must've\": \"must have\", \"mustn't\": \"must not\", \"mustn't've\": \"must not have\", \"needn't\": \"need not\", \"needn't've\": \"need not have\",\"o'clock\": \"of the clock\", \"oughtn't\": \"ought not\", \"oughtn't've\": \"ought not have\", \"shan't\": \"shall not\", \"sha'n't\": \"shall not\", \"shan't've\": \"shall not have\", \"she'd\": \"she would\", \"she'd've\": \"she would have\", \"she'll\": \"she will\", \"she'll've\": \"she will have\", \"she's\": \"she is\", \"should've\": \"should have\", \"shouldn't\": \"should not\", \"shouldn't've\": \"should not have\", \"so've\": \"so have\",\"so's\": \"so as\", \"this's\": \"this is\",\"that'd\": \"that would\", \"that'd've\": \"that would have\", \"that's\": \"that is\", \"there'd\": \"there would\", \"there'd've\": \"there would have\", \"there's\": \"there is\", \"here's\": \"here is\",\"they'd\": \"they would\", \"they'd've\": \"they would have\", \"they'll\": \"they will\", \"they'll've\": \"they will have\", \"they're\": \"they are\", \"they've\": \"they have\", \"to've\": \"to have\", \"wasn't\": \"was not\", \"we'd\": \"we would\", \"we'd've\": \"we would have\", \"we'll\": \"we will\", \"we'll've\": \"we will have\", \"we're\": \"we are\", \"we've\": \"we have\", \"weren't\": \"were not\", \"what'll\": \"what will\", \"what'll've\": \"what will have\", \"what're\": \"what are\",  \"what's\": \"what is\", \"what've\": \"what have\", \"when's\": \"when is\", \"when've\": \"when have\", \"where'd\": \"where did\", \"where's\": \"where is\", \"where've\": \"where have\", \"who'll\": \"who will\", \"who'll've\": \"who will have\", \"who's\": \"who is\", \"who've\": \"who have\", \"why's\": \"why is\", \"why've\": \"why have\", \"will've\": \"will have\", \"won't\": \"will not\", \"won't've\": \"will not have\", \"would've\": \"would have\", \"wouldn't\": \"would not\", \"wouldn't've\": \"would not have\", \"y'all\": \"you all\", \"y'all'd\": \"you all would\",\"y'all'd've\": \"you all would have\",\"y'all're\": \"you all are\",\"y'all've\": \"you all have\",\"you'd\": \"you would\", \"you'd've\": \"you would have\", \"you'll\": \"you will\", \"you'll've\": \"you will have\", \"you're\": \"you are\", \"you've\": \"you have\" }\n",
    "\n",
    "\n",
    "def handle_punctuation(text):\n",
    "    text = text.translate(REMOVE_DICT)\n",
    "    text = text.translate(NEUTRAL_EMOJI_DICT)\n",
    "    text = text.translate(POSITIVE_EMOJI_DICT)\n",
    "    text = text.translate(FLAG_EMOJI)\n",
    "    text = text.translate(NEGATIVE_EMOJI_DICT)\n",
    "    text = text.translate(ISOLATE_DICT)\n",
    "    return text\n",
    "\n",
    "def clean_contractions(text, mapping=CONTRACTION_MAPPING):\n",
    "    specials = [\"’\", \"‘\", \"´\", \"`\"]\n",
    "    for s in specials:\n",
    "        text = text.replace(s, \"'\")\n",
    "    text = ' '.join([mapping[t] if t in mapping else t for t in text.split(\" \")])\n",
    "    return text\n",
    "\n",
    "\n",
    "def text_general_reworking(text):\n",
    "    spaces = ['\\u200b', '\\u200e', '\\u202a', '\\u202c', '\\ufeff', '\\uf0d8', '\\u2061', '\\x10', '\\x7f', '\\x9d', '\\xad',\n",
    "              '\\xa0']\n",
    "    for space in spaces:\n",
    "        text = text.replace(space, ' ')\n",
    "    text = re.sub('\\s+', ' ', text)\n",
    "    text = re.sub(r'\\.{2,}', ' ', text)\n",
    "    text = re.sub(r'(:\\s?\\)|:-\\)|\\(\\s?:|\\(-:|:\\'\\))', '', text)\n",
    "    text = re.sub(r'(:\\s?D|:-D|x-?D|X-?D)', '', text)\n",
    "    text = re.sub(r'(<3|:\\*)', '', text)\n",
    "    text = re.sub(r'(;-?\\)|;-?D|\\(-?;)', '', text)\n",
    "    text = re.sub(r'(:\\s?\\(|:-\\(|\\)\\s?:|\\)-:)', '', text)\n",
    "    text = re.sub(r'(:,\\(|:\\'\\(|:\"\\()', '', text)\n",
    "    #text = re.sub(r'((www\\.[\\S]+)|(https?://[\\S]+))', '', text)\n",
    "    text = re.sub(r'\\brt\\b', '', text)\n",
    "    text = re.sub(r'\\[math\\]', ' LaTex math ', text)\n",
    "    text = re.sub(r'\\[\\/math\\]', ' LaTex math ', text)\n",
    "    text = re.sub(r'\\\\', ' LaTex ', text)\n",
    "    text = re.sub(r'\\brt\\b', '', text)\n",
    "    text = re.sub(\"([^\\\"^\\'].\\s)(\\\")([A-Z,a-z?])\", r\"\\1\\3\", text)\n",
    "    text = re.sub(\"(\\')(.\\\")\", r\"\\2\", text)\n",
    "    text = text.lower()\n",
    "    if '-' in text:\n",
    "        text = text.replace('-', ' - ')\n",
    "    text.strip()\n",
    "    return text\n",
    "\n",
    "def en_preprocess(x):\n",
    "    x = text_general_reworking(x)\n",
    "    x = handle_punctuation(x)\n",
    "    x = clean_contractions(x)\n",
    "    return x\n",
    "\n",
    "def es_preprocess(x):\n",
    "    x = text_general_reworking(x)\n",
    "    x = handle_punctuation(x)\n",
    "    return x"
   ]
  },
  {
   "cell_type": "code",
   "execution_count": 28,
   "id": "b312aa53",
   "metadata": {},
   "outputs": [
    {
     "name": "stdout",
     "output_type": "stream",
     "text": [
      "INFO: Pandarallel will run on 16 workers.\n",
      "INFO: Pandarallel will use Memory file system to transfer data between the main process and workers.\n"
     ]
    }
   ],
   "source": [
    "pandarallel.initialize()\n",
    "endf['input'] = endf['tweets'].parallel_apply(en_preprocess)\n",
    "esdf['input'] = esdf['tweets'].parallel_apply(es_preprocess)"
   ]
  },
  {
   "cell_type": "code",
   "execution_count": 31,
   "id": "a6b42b13",
   "metadata": {},
   "outputs": [
    {
     "name": "stdout",
     "output_type": "stream",
     "text": [
      "<class 'pandas.core.frame.DataFrame'>\n",
      "RangeIndex: 20000 entries, 0 to 19999\n",
      "Data columns (total 3 columns):\n",
      " #   Column  Non-Null Count  Dtype \n",
      "---  ------  --------------  ----- \n",
      " 0   id      20000 non-null  object\n",
      " 1   tweets  20000 non-null  object\n",
      " 2   input   20000 non-null  object\n",
      "dtypes: object(3)\n",
      "memory usage: 468.9+ KB\n"
     ]
    }
   ],
   "source": [
    "endf.info()"
   ]
  },
  {
   "cell_type": "code",
   "execution_count": 35,
   "id": "3db5a471",
   "metadata": {},
   "outputs": [],
   "source": [
    "endf['output'] = \"\"\n",
    "esdf['output'] = \"\"\n",
    "endf['output_alt'] = \"\""
   ]
  },
  {
   "cell_type": "code",
   "execution_count": 36,
   "id": "5c8d1234",
   "metadata": {},
   "outputs": [],
   "source": [
    "def full_predict(df, start, stop, step, model, tokenizer, column):\n",
    "    for i in range(start, stop):\n",
    "        tweet = \"hater classification: \"+ df.iloc[i,2]\n",
    "        input_ids = tokenizer.encode(tweet, return_tensors = \"pt\")\n",
    "        output_ids = model.generate(input_ids)\n",
    "        output = str(tokenizer.decode(output_ids[0], skip_special_tokens=True))\n",
    "        df.iloc[i,column]=output\n",
    "        if i%step==0:\n",
    "            print(\"{} % complete\".format(i/(step/10)))\n",
    "    return df"
   ]
  },
  {
   "cell_type": "code",
   "execution_count": 34,
   "id": "a1be1a80",
   "metadata": {},
   "outputs": [
    {
     "data": {
      "application/vnd.jupyter.widget-view+json": {
       "model_id": "1475b3f996d7441e805d0770ba36db05",
       "version_major": 2,
       "version_minor": 0
      },
      "text/plain": [
       "HBox(children=(FloatProgress(value=0.0, description='Downloading', max=673.0, style=ProgressStyle(description_…"
      ]
     },
     "metadata": {},
     "output_type": "display_data"
    },
    {
     "name": "stdout",
     "output_type": "stream",
     "text": [
      "\n"
     ]
    },
    {
     "data": {
      "application/vnd.jupyter.widget-view+json": {
       "model_id": "f62959a0f0744710b44582ad39016f3c",
       "version_major": 2,
       "version_minor": 0
      },
      "text/plain": [
       "HBox(children=(FloatProgress(value=0.0, description='Downloading', max=1200775901.0, style=ProgressStyle(descr…"
      ]
     },
     "metadata": {},
     "output_type": "display_data"
    },
    {
     "name": "stdout",
     "output_type": "stream",
     "text": [
      "\n"
     ]
    },
    {
     "data": {
      "application/vnd.jupyter.widget-view+json": {
       "model_id": "1ab275c164b349678a60fc910cc68993",
       "version_major": 2,
       "version_minor": 0
      },
      "text/plain": [
       "HBox(children=(FloatProgress(value=0.0, description='Downloading', max=4309802.0, style=ProgressStyle(descript…"
      ]
     },
     "metadata": {},
     "output_type": "display_data"
    },
    {
     "name": "stdout",
     "output_type": "stream",
     "text": [
      "\n"
     ]
    },
    {
     "data": {
      "application/vnd.jupyter.widget-view+json": {
       "model_id": "877235fd9a0c44d69de4a8f955ccfeb5",
       "version_major": 2,
       "version_minor": 0
      },
      "text/plain": [
       "HBox(children=(FloatProgress(value=0.0, description='Downloading', max=65.0, style=ProgressStyle(description_w…"
      ]
     },
     "metadata": {},
     "output_type": "display_data"
    },
    {
     "name": "stdout",
     "output_type": "stream",
     "text": [
      "\n"
     ]
    },
    {
     "data": {
      "application/vnd.jupyter.widget-view+json": {
       "model_id": "9251f4d014404bb183df54d58283a07f",
       "version_major": 2,
       "version_minor": 0
      },
      "text/plain": [
       "HBox(children=(FloatProgress(value=0.0, description='Downloading', max=307.0, style=ProgressStyle(description_…"
      ]
     },
     "metadata": {},
     "output_type": "display_data"
    },
    {
     "name": "stdout",
     "output_type": "stream",
     "text": [
      "\n"
     ]
    }
   ],
   "source": [
    "multi_model = MT5ForConditionalGeneration.from_pretrained(\"PaulAdversarial/PAN_twitter_hate_speech_2021_ES_MT5\")\n",
    "multi_tokenizer = MT5Tokenizer.from_pretrained(\"PaulAdversarial/PAN_twitter_hate_speech_2021_ES_MT5\")"
   ]
  },
  {
   "cell_type": "code",
   "execution_count": 37,
   "id": "ccf97350",
   "metadata": {},
   "outputs": [
    {
     "name": "stdout",
     "output_type": "stream",
     "text": [
      "0.0 % complete\n",
      "10.0 % complete\n",
      "20.0 % complete\n",
      "30.0 % complete\n",
      "40.0 % complete\n",
      "50.0 % complete\n",
      "60.0 % complete\n",
      "70.0 % complete\n",
      "80.0 % complete\n",
      "90.0 % complete\n"
     ]
    }
   ],
   "source": [
    "esdf = full_predict(esdf, 0, 20000, 2000, multi_model, multi_tokenizer, 3)"
   ]
  },
  {
   "cell_type": "code",
   "execution_count": 38,
   "id": "2fe97753",
   "metadata": {},
   "outputs": [],
   "source": [
    "def replace_bin(x):\n",
    "    if x=='neutral':\n",
    "        x=0\n",
    "    elif(x=='hatespeach'):\n",
    "        x=1\n",
    "    else:\n",
    "        print(x)\n",
    "        x=0\n",
    "    return int(x)"
   ]
  },
  {
   "cell_type": "code",
   "execution_count": 39,
   "id": "e5d6eb37",
   "metadata": {},
   "outputs": [],
   "source": [
    "esdf['output_num'] = esdf['output'].parallel_apply(replace_bin)"
   ]
  },
  {
   "cell_type": "code",
   "execution_count": 40,
   "id": "b52c317b",
   "metadata": {},
   "outputs": [
    {
     "data": {
      "text/plain": [
       "69d556839af1b8b0756f1619a0178247    200\n",
       "e8a2fed867e38a6ffb404e96221016cf    200\n",
       "0389ca1de412788fe6e2ad1aff9a37b2    200\n",
       "18172d25b495577ee01fdf2101dcb3cd    200\n",
       "78dc139860cb2a5258967a46f6150d65    200\n",
       "                                   ... \n",
       "7b5c34c0d03cf69dd4a4c1d753d5a7e6    200\n",
       "b6e31de389da07af3d104bf991124b9a    200\n",
       "c7deb138f9201ccc4c60293f99b6c929    200\n",
       "5cd3e71439e942c65a65bc1d13a73dad    200\n",
       "652ecfa77cdd304a12306da2130b4658    200\n",
       "Name: id, Length: 100, dtype: int64"
      ]
     },
     "execution_count": 40,
     "metadata": {},
     "output_type": "execute_result"
    }
   ],
   "source": [
    "esdf.id.value_counts()"
   ]
  },
  {
   "cell_type": "code",
   "execution_count": 42,
   "id": "4e165d3c",
   "metadata": {},
   "outputs": [],
   "source": [
    "def assign_top(df,step=200):\n",
    "    for i in range(0, int(df.shape[0]/step)):\n",
    "        df.loc[i*step:(i+1)*step-1,'output_num_avg'] = int(round(df.loc[i*step:(i+1)*step-1,'output_num'].mean()))\n",
    "    return df"
   ]
  },
  {
   "cell_type": "code",
   "execution_count": 43,
   "id": "bed7a07c",
   "metadata": {},
   "outputs": [],
   "source": [
    "esdf = assign_top(esdf)"
   ]
  },
  {
   "cell_type": "code",
   "execution_count": 66,
   "id": "3267cc86",
   "metadata": {},
   "outputs": [],
   "source": [
    "esdf.output_num_avg = esdf.output_num_avg.astype(int)"
   ]
  },
  {
   "cell_type": "code",
   "execution_count": 67,
   "id": "678c274f",
   "metadata": {},
   "outputs": [],
   "source": [
    "esdf.to_csv(\"results_es/results.csv\")"
   ]
  },
  {
   "cell_type": "code",
   "execution_count": 45,
   "id": "09089ef6",
   "metadata": {},
   "outputs": [],
   "source": [
    "model = T5ForConditionalGeneration.from_pretrained(\"PaulAdversarial/T5_PAN_Hate_Speech_Twitter_topic_ishatespeach\")\n",
    "tokenizer = T5Tokenizer.from_pretrained(\"PaulAdversarial/T5_PAN_Hate_Speech_Twitter_topic_author_ishatespeach\")"
   ]
  },
  {
   "cell_type": "code",
   "execution_count": 46,
   "id": "7be60dff",
   "metadata": {},
   "outputs": [
    {
     "name": "stdout",
     "output_type": "stream",
     "text": [
      "0.0 % complete\n",
      "10.0 % complete\n",
      "20.0 % complete\n",
      "30.0 % complete\n",
      "40.0 % complete\n",
      "50.0 % complete\n",
      "60.0 % complete\n",
      "70.0 % complete\n",
      "80.0 % complete\n",
      "90.0 % complete\n"
     ]
    }
   ],
   "source": [
    "endf = full_predict(endf, 0, 20000, 2000, model, tokenizer, 3)"
   ]
  },
  {
   "cell_type": "code",
   "execution_count": 47,
   "id": "bc071ad1",
   "metadata": {},
   "outputs": [
    {
     "name": "stdout",
     "output_type": "stream",
     "text": [
      "<class 'pandas.core.frame.DataFrame'>\n",
      "RangeIndex: 20000 entries, 0 to 19999\n",
      "Data columns (total 5 columns):\n",
      " #   Column      Non-Null Count  Dtype \n",
      "---  ------      --------------  ----- \n",
      " 0   id          20000 non-null  object\n",
      " 1   tweets      20000 non-null  object\n",
      " 2   input       20000 non-null  object\n",
      " 3   output      20000 non-null  object\n",
      " 4   output_alt  20000 non-null  object\n",
      "dtypes: object(5)\n",
      "memory usage: 781.4+ KB\n"
     ]
    }
   ],
   "source": [
    "endf.info()"
   ]
  },
  {
   "cell_type": "code",
   "execution_count": 48,
   "id": "392e8b5b",
   "metadata": {},
   "outputs": [
    {
     "data": {
      "text/html": [
       "<div>\n",
       "<style scoped>\n",
       "    .dataframe tbody tr th:only-of-type {\n",
       "        vertical-align: middle;\n",
       "    }\n",
       "\n",
       "    .dataframe tbody tr th {\n",
       "        vertical-align: top;\n",
       "    }\n",
       "\n",
       "    .dataframe thead th {\n",
       "        text-align: right;\n",
       "    }\n",
       "</style>\n",
       "<table border=\"1\" class=\"dataframe\">\n",
       "  <thead>\n",
       "    <tr style=\"text-align: right;\">\n",
       "      <th></th>\n",
       "      <th>id</th>\n",
       "      <th>tweets</th>\n",
       "      <th>input</th>\n",
       "      <th>output</th>\n",
       "      <th>output_alt</th>\n",
       "    </tr>\n",
       "  </thead>\n",
       "  <tbody>\n",
       "    <tr>\n",
       "      <th>0</th>\n",
       "      <td>35dad41e25a45dcf6d7e3dd905dd0914</td>\n",
       "      <td>#USER# #HASHTAG# are the #HASHTAG#!</td>\n",
       "      <td>user hashtag are the hashtag</td>\n",
       "      <td>hatespeach</td>\n",
       "      <td></td>\n",
       "    </tr>\n",
       "    <tr>\n",
       "      <th>1</th>\n",
       "      <td>35dad41e25a45dcf6d7e3dd905dd0914</td>\n",
       "      <td>#USER# Let's not pretend that you have a lick ...</td>\n",
       "      <td>user let us not pretend that you have a lick o...</td>\n",
       "      <td>hatespeach</td>\n",
       "      <td></td>\n",
       "    </tr>\n",
       "    <tr>\n",
       "      <th>2</th>\n",
       "      <td>35dad41e25a45dcf6d7e3dd905dd0914</td>\n",
       "      <td>#USER# No #HASHTAG# for any of these #HASHTAG#...</td>\n",
       "      <td>user no hashtag for any of these hashtag hashtag</td>\n",
       "      <td>hatespeach</td>\n",
       "      <td></td>\n",
       "    </tr>\n",
       "    <tr>\n",
       "      <th>3</th>\n",
       "      <td>35dad41e25a45dcf6d7e3dd905dd0914</td>\n",
       "      <td>Because you are against it - moving #HASHTAG# ...</td>\n",
       "      <td>because you are against it    moving hashtag i...</td>\n",
       "      <td>neutral</td>\n",
       "      <td></td>\n",
       "    </tr>\n",
       "    <tr>\n",
       "      <th>4</th>\n",
       "      <td>35dad41e25a45dcf6d7e3dd905dd0914</td>\n",
       "      <td>When is #HASHTAG# going to #HASHTAG#? #HASHTAG...</td>\n",
       "      <td>when is hashtag going to hashtag hashtag hasht...</td>\n",
       "      <td>neutral</td>\n",
       "      <td></td>\n",
       "    </tr>\n",
       "  </tbody>\n",
       "</table>\n",
       "</div>"
      ],
      "text/plain": [
       "                                 id  \\\n",
       "0  35dad41e25a45dcf6d7e3dd905dd0914   \n",
       "1  35dad41e25a45dcf6d7e3dd905dd0914   \n",
       "2  35dad41e25a45dcf6d7e3dd905dd0914   \n",
       "3  35dad41e25a45dcf6d7e3dd905dd0914   \n",
       "4  35dad41e25a45dcf6d7e3dd905dd0914   \n",
       "\n",
       "                                              tweets  \\\n",
       "0                #USER# #HASHTAG# are the #HASHTAG#!   \n",
       "1  #USER# Let's not pretend that you have a lick ...   \n",
       "2  #USER# No #HASHTAG# for any of these #HASHTAG#...   \n",
       "3  Because you are against it - moving #HASHTAG# ...   \n",
       "4  When is #HASHTAG# going to #HASHTAG#? #HASHTAG...   \n",
       "\n",
       "                                               input      output output_alt  \n",
       "0                       user hashtag are the hashtag  hatespeach             \n",
       "1  user let us not pretend that you have a lick o...  hatespeach             \n",
       "2   user no hashtag for any of these hashtag hashtag  hatespeach             \n",
       "3  because you are against it    moving hashtag i...     neutral             \n",
       "4  when is hashtag going to hashtag hashtag hasht...     neutral             "
      ]
     },
     "execution_count": 48,
     "metadata": {},
     "output_type": "execute_result"
    }
   ],
   "source": [
    "endf.head()"
   ]
  },
  {
   "cell_type": "code",
   "execution_count": 49,
   "id": "5d85e535",
   "metadata": {},
   "outputs": [],
   "source": [
    "model_alt = T5ForConditionalGeneration.from_pretrained(\"PaulAdversarial/T5_PAN_Hate_Speech_Twitter_topic_author_ishatespeach\")"
   ]
  },
  {
   "cell_type": "code",
   "execution_count": 50,
   "id": "c7364bec",
   "metadata": {},
   "outputs": [
    {
     "name": "stdout",
     "output_type": "stream",
     "text": [
      "0.0 % complete\n",
      "10.0 % complete\n",
      "20.0 % complete\n",
      "30.0 % complete\n",
      "40.0 % complete\n",
      "50.0 % complete\n",
      "70.0 % complete\n",
      "80.0 % complete\n",
      "90.0 % complete\n"
     ]
    }
   ],
   "source": [
    "endf = full_predict(endf, 0, 20000, 2000, model_alt, tokenizer, 4)"
   ]
  },
  {
   "cell_type": "code",
   "execution_count": 51,
   "id": "9e3f8467",
   "metadata": {},
   "outputs": [
    {
     "name": "stdout",
     "output_type": "stream",
     "text": [
      "<class 'pandas.core.frame.DataFrame'>\n",
      "RangeIndex: 20000 entries, 0 to 19999\n",
      "Data columns (total 5 columns):\n",
      " #   Column      Non-Null Count  Dtype \n",
      "---  ------      --------------  ----- \n",
      " 0   id          20000 non-null  object\n",
      " 1   tweets      20000 non-null  object\n",
      " 2   input       20000 non-null  object\n",
      " 3   output      20000 non-null  object\n",
      " 4   output_alt  20000 non-null  object\n",
      "dtypes: object(5)\n",
      "memory usage: 781.4+ KB\n"
     ]
    }
   ],
   "source": [
    "endf.info()"
   ]
  },
  {
   "cell_type": "code",
   "execution_count": 70,
   "id": "fe143d99",
   "metadata": {},
   "outputs": [
    {
     "data": {
      "text/html": [
       "<div>\n",
       "<style scoped>\n",
       "    .dataframe tbody tr th:only-of-type {\n",
       "        vertical-align: middle;\n",
       "    }\n",
       "\n",
       "    .dataframe tbody tr th {\n",
       "        vertical-align: top;\n",
       "    }\n",
       "\n",
       "    .dataframe thead th {\n",
       "        text-align: right;\n",
       "    }\n",
       "</style>\n",
       "<table border=\"1\" class=\"dataframe\">\n",
       "  <thead>\n",
       "    <tr style=\"text-align: right;\">\n",
       "      <th></th>\n",
       "      <th>id</th>\n",
       "      <th>tweets</th>\n",
       "      <th>input</th>\n",
       "      <th>output</th>\n",
       "      <th>output_alt</th>\n",
       "      <th>output_num</th>\n",
       "      <th>output_alt_num</th>\n",
       "      <th>output_mix_num_avg</th>\n",
       "    </tr>\n",
       "  </thead>\n",
       "  <tbody>\n",
       "    <tr>\n",
       "      <th>0</th>\n",
       "      <td>35dad41e25a45dcf6d7e3dd905dd0914</td>\n",
       "      <td>#USER# #HASHTAG# are the #HASHTAG#!</td>\n",
       "      <td>user hashtag are the hashtag</td>\n",
       "      <td>hatespeach</td>\n",
       "      <td>hatespeach</td>\n",
       "      <td>1</td>\n",
       "      <td>1</td>\n",
       "      <td>0</td>\n",
       "    </tr>\n",
       "    <tr>\n",
       "      <th>1</th>\n",
       "      <td>35dad41e25a45dcf6d7e3dd905dd0914</td>\n",
       "      <td>#USER# Let's not pretend that you have a lick ...</td>\n",
       "      <td>user let us not pretend that you have a lick o...</td>\n",
       "      <td>hatespeach</td>\n",
       "      <td>neutral</td>\n",
       "      <td>1</td>\n",
       "      <td>0</td>\n",
       "      <td>0</td>\n",
       "    </tr>\n",
       "    <tr>\n",
       "      <th>2</th>\n",
       "      <td>35dad41e25a45dcf6d7e3dd905dd0914</td>\n",
       "      <td>#USER# No #HASHTAG# for any of these #HASHTAG#...</td>\n",
       "      <td>user no hashtag for any of these hashtag hashtag</td>\n",
       "      <td>hatespeach</td>\n",
       "      <td>hatespeach</td>\n",
       "      <td>1</td>\n",
       "      <td>1</td>\n",
       "      <td>0</td>\n",
       "    </tr>\n",
       "    <tr>\n",
       "      <th>3</th>\n",
       "      <td>35dad41e25a45dcf6d7e3dd905dd0914</td>\n",
       "      <td>Because you are against it - moving #HASHTAG# ...</td>\n",
       "      <td>because you are against it    moving hashtag i...</td>\n",
       "      <td>neutral</td>\n",
       "      <td>neutral</td>\n",
       "      <td>0</td>\n",
       "      <td>0</td>\n",
       "      <td>0</td>\n",
       "    </tr>\n",
       "    <tr>\n",
       "      <th>4</th>\n",
       "      <td>35dad41e25a45dcf6d7e3dd905dd0914</td>\n",
       "      <td>When is #HASHTAG# going to #HASHTAG#? #HASHTAG...</td>\n",
       "      <td>when is hashtag going to hashtag hashtag hasht...</td>\n",
       "      <td>neutral</td>\n",
       "      <td>neutral</td>\n",
       "      <td>0</td>\n",
       "      <td>0</td>\n",
       "      <td>0</td>\n",
       "    </tr>\n",
       "  </tbody>\n",
       "</table>\n",
       "</div>"
      ],
      "text/plain": [
       "                                 id  \\\n",
       "0  35dad41e25a45dcf6d7e3dd905dd0914   \n",
       "1  35dad41e25a45dcf6d7e3dd905dd0914   \n",
       "2  35dad41e25a45dcf6d7e3dd905dd0914   \n",
       "3  35dad41e25a45dcf6d7e3dd905dd0914   \n",
       "4  35dad41e25a45dcf6d7e3dd905dd0914   \n",
       "\n",
       "                                              tweets  \\\n",
       "0                #USER# #HASHTAG# are the #HASHTAG#!   \n",
       "1  #USER# Let's not pretend that you have a lick ...   \n",
       "2  #USER# No #HASHTAG# for any of these #HASHTAG#...   \n",
       "3  Because you are against it - moving #HASHTAG# ...   \n",
       "4  When is #HASHTAG# going to #HASHTAG#? #HASHTAG...   \n",
       "\n",
       "                                               input      output  output_alt  \\\n",
       "0                       user hashtag are the hashtag  hatespeach  hatespeach   \n",
       "1  user let us not pretend that you have a lick o...  hatespeach     neutral   \n",
       "2   user no hashtag for any of these hashtag hashtag  hatespeach  hatespeach   \n",
       "3  because you are against it    moving hashtag i...     neutral     neutral   \n",
       "4  when is hashtag going to hashtag hashtag hasht...     neutral     neutral   \n",
       "\n",
       "   output_num  output_alt_num  output_mix_num_avg  \n",
       "0           1               1                   0  \n",
       "1           1               0                   0  \n",
       "2           1               1                   0  \n",
       "3           0               0                   0  \n",
       "4           0               0                   0  "
      ]
     },
     "execution_count": 70,
     "metadata": {},
     "output_type": "execute_result"
    }
   ],
   "source": [
    "endf.head()"
   ]
  },
  {
   "cell_type": "code",
   "execution_count": 56,
   "id": "d0d945b5",
   "metadata": {},
   "outputs": [],
   "source": [
    "endf['output_num'] = endf['output'].parallel_apply(replace_bin)\n",
    "endf['output_alt_num'] = endf['output_alt'].parallel_apply(replace_bin)"
   ]
  },
  {
   "cell_type": "code",
   "execution_count": 79,
   "id": "d9cccb2e",
   "metadata": {},
   "outputs": [],
   "source": [
    "def assign_combined(df,step=200, weight=0.35):\n",
    "    ids = []\n",
    "    preds = []\n",
    "    for i in range(0, int(df.shape[0]/step)):\n",
    "        df.loc[i*step:(i+1)*step-1,'output_mix_num_avg'] = int(round(weight*df.loc[i*step:(i+1)*step-1,'output_alt_num'].mean()+(1-weight)*df.loc[i*step:(i+1)*step-1,'output_num'].mean()))\n",
    "        ids.append(df.loc[i*step, 'id'])\n",
    "        preds.append(df.loc[i*step, 'output_mix_num_avg'])\n",
    "    for i in range(len(ids)):\n",
    "        a_id = str(ids[i])\n",
    "        pred = preds[i]   \n",
    "        root = ET.Element(\"author\", id =a_id, lang=\"en\", type=str(pred))\n",
    "        tree = ET.ElementTree(root)\n",
    "        tree.write(\"results_en/\"+ a_id + \".xml\")\n",
    "    return df"
   ]
  },
  {
   "cell_type": "code",
   "execution_count": 80,
   "id": "4b1b7ccb",
   "metadata": {},
   "outputs": [],
   "source": [
    "endf = assign_combined(endf)"
   ]
  },
  {
   "cell_type": "code",
   "execution_count": 81,
   "id": "d4a430a5",
   "metadata": {},
   "outputs": [],
   "source": [
    "endf.output_mix_num_avg = endf.output_mix_num_avg.astype(int)"
   ]
  },
  {
   "cell_type": "code",
   "execution_count": 82,
   "id": "689dc20f",
   "metadata": {},
   "outputs": [],
   "source": [
    "endf.to_csv(\"results_en/results.csv\")"
   ]
  },
  {
   "cell_type": "code",
   "execution_count": 83,
   "id": "a50f155f",
   "metadata": {},
   "outputs": [
    {
     "data": {
      "text/plain": [
       "count    20000.000000\n",
       "mean         0.550000\n",
       "std          0.497506\n",
       "min          0.000000\n",
       "25%          0.000000\n",
       "35%          0.000000\n",
       "45%          0.550000\n",
       "50%          1.000000\n",
       "55%          1.000000\n",
       "65%          1.000000\n",
       "max          1.000000\n",
       "Name: output_mix_num_avg, dtype: float64"
      ]
     },
     "execution_count": 83,
     "metadata": {},
     "output_type": "execute_result"
    }
   ],
   "source": [
    "endf.output_mix_num_avg.describe(percentiles = [0.25, 0.35,0.45, 0.55, 0.65])"
   ]
  },
  {
   "cell_type": "code",
   "execution_count": 84,
   "id": "ea0ca51c",
   "metadata": {},
   "outputs": [
    {
     "data": {
      "text/plain": [
       "1    11000\n",
       "0     9000\n",
       "Name: output_mix_num_avg, dtype: int64"
      ]
     },
     "execution_count": 84,
     "metadata": {},
     "output_type": "execute_result"
    }
   ],
   "source": [
    "endf.output_mix_num_avg.value_counts()"
   ]
  },
  {
   "cell_type": "code",
   "execution_count": 78,
   "id": "69d0b49c",
   "metadata": {},
   "outputs": [
    {
     "data": {
      "text/plain": [
       "1    14800\n",
       "0     5200\n",
       "Name: output_num_avg, dtype: int64"
      ]
     },
     "execution_count": 78,
     "metadata": {},
     "output_type": "execute_result"
    }
   ],
   "source": [
    "esdf.output_num_avg.value_counts()"
   ]
  },
  {
   "cell_type": "code",
   "execution_count": 85,
   "id": "af63ef7f",
   "metadata": {},
   "outputs": [
    {
     "name": "stdout",
     "output_type": "stream",
     "text": [
      "<class 'pandas.core.frame.DataFrame'>\n",
      "RangeIndex: 20000 entries, 0 to 19999\n",
      "Data columns (total 6 columns):\n",
      " #   Column          Non-Null Count  Dtype \n",
      "---  ------          --------------  ----- \n",
      " 0   id              20000 non-null  object\n",
      " 1   tweets          20000 non-null  object\n",
      " 2   input           20000 non-null  object\n",
      " 3   output          20000 non-null  object\n",
      " 4   output_num      20000 non-null  int64 \n",
      " 5   output_num_avg  20000 non-null  int64 \n",
      "dtypes: int64(2), object(4)\n",
      "memory usage: 937.6+ KB\n"
     ]
    }
   ],
   "source": [
    "esdf.info()"
   ]
  },
  {
   "cell_type": "code",
   "execution_count": 98,
   "id": "dc52020c",
   "metadata": {},
   "outputs": [],
   "source": [
    "freq_es = pd.crosstab(esdf.output_num, esdf.id).T"
   ]
  },
  {
   "cell_type": "code",
   "execution_count": 109,
   "id": "7f8def38",
   "metadata": {},
   "outputs": [],
   "source": [
    "median_0 = freq_es[0].describe()['50%']"
   ]
  },
  {
   "cell_type": "code",
   "execution_count": 127,
   "id": "72ecefa3",
   "metadata": {},
   "outputs": [],
   "source": [
    "freq_es['result'] = 0"
   ]
  },
  {
   "cell_type": "code",
   "execution_count": 137,
   "id": "3ee5f095",
   "metadata": {},
   "outputs": [
    {
     "data": {
      "text/html": [
       "<div>\n",
       "<style scoped>\n",
       "    .dataframe tbody tr th:only-of-type {\n",
       "        vertical-align: middle;\n",
       "    }\n",
       "\n",
       "    .dataframe tbody tr th {\n",
       "        vertical-align: top;\n",
       "    }\n",
       "\n",
       "    .dataframe thead th {\n",
       "        text-align: right;\n",
       "    }\n",
       "</style>\n",
       "<table border=\"1\" class=\"dataframe\">\n",
       "  <thead>\n",
       "    <tr style=\"text-align: right;\">\n",
       "      <th>output_num</th>\n",
       "      <th>0</th>\n",
       "      <th>1</th>\n",
       "      <th>result</th>\n",
       "    </tr>\n",
       "    <tr>\n",
       "      <th>id</th>\n",
       "      <th></th>\n",
       "      <th></th>\n",
       "      <th></th>\n",
       "    </tr>\n",
       "  </thead>\n",
       "  <tbody>\n",
       "    <tr>\n",
       "      <th>03263875c28c5e589409ab4ee1d18c2f</th>\n",
       "      <td>169</td>\n",
       "      <td>31</td>\n",
       "      <td>0</td>\n",
       "    </tr>\n",
       "    <tr>\n",
       "      <th>0373317cba1543d5976c3a2cc2f92a79</th>\n",
       "      <td>35</td>\n",
       "      <td>165</td>\n",
       "      <td>1</td>\n",
       "    </tr>\n",
       "    <tr>\n",
       "      <th>03872a57faf2cf7eb3327e49b27d53bf</th>\n",
       "      <td>137</td>\n",
       "      <td>63</td>\n",
       "      <td>0</td>\n",
       "    </tr>\n",
       "    <tr>\n",
       "      <th>0389ca1de412788fe6e2ad1aff9a37b2</th>\n",
       "      <td>25</td>\n",
       "      <td>175</td>\n",
       "      <td>1</td>\n",
       "    </tr>\n",
       "    <tr>\n",
       "      <th>03b9385278a1ec7bdf7e5775c138d7a0</th>\n",
       "      <td>46</td>\n",
       "      <td>154</td>\n",
       "      <td>0</td>\n",
       "    </tr>\n",
       "    <tr>\n",
       "      <th>04101a3c7a11a159e965fdeb048e9386</th>\n",
       "      <td>20</td>\n",
       "      <td>180</td>\n",
       "      <td>1</td>\n",
       "    </tr>\n",
       "    <tr>\n",
       "      <th>0794ff63d194999ef7dfbb27fb67830c</th>\n",
       "      <td>24</td>\n",
       "      <td>176</td>\n",
       "      <td>1</td>\n",
       "    </tr>\n",
       "    <tr>\n",
       "      <th>0d1a59776b24ea8e8a924ddabf09ab14</th>\n",
       "      <td>40</td>\n",
       "      <td>160</td>\n",
       "      <td>1</td>\n",
       "    </tr>\n",
       "    <tr>\n",
       "      <th>15f18af6d4b4008f87be4bdc68898c23</th>\n",
       "      <td>31</td>\n",
       "      <td>169</td>\n",
       "      <td>1</td>\n",
       "    </tr>\n",
       "    <tr>\n",
       "      <th>17abfb488b6ca1cfc52310709d811de1</th>\n",
       "      <td>51</td>\n",
       "      <td>149</td>\n",
       "      <td>0</td>\n",
       "    </tr>\n",
       "    <tr>\n",
       "      <th>18172d25b495577ee01fdf2101dcb3cd</th>\n",
       "      <td>97</td>\n",
       "      <td>103</td>\n",
       "      <td>0</td>\n",
       "    </tr>\n",
       "    <tr>\n",
       "      <th>19f3683f4f99dfa0de0e4e937e7e3f28</th>\n",
       "      <td>157</td>\n",
       "      <td>43</td>\n",
       "      <td>0</td>\n",
       "    </tr>\n",
       "    <tr>\n",
       "      <th>1a08dc0ce59a97afaa09cb75fec56b7f</th>\n",
       "      <td>23</td>\n",
       "      <td>177</td>\n",
       "      <td>1</td>\n",
       "    </tr>\n",
       "    <tr>\n",
       "      <th>1b95d9df96f463fb405d9718da1798fe</th>\n",
       "      <td>49</td>\n",
       "      <td>151</td>\n",
       "      <td>0</td>\n",
       "    </tr>\n",
       "    <tr>\n",
       "      <th>1d6b3543165c1e22b7db4ecfb1fff4a4</th>\n",
       "      <td>39</td>\n",
       "      <td>161</td>\n",
       "      <td>1</td>\n",
       "    </tr>\n",
       "  </tbody>\n",
       "</table>\n",
       "</div>"
      ],
      "text/plain": [
       "output_num                          0    1  result\n",
       "id                                                \n",
       "03263875c28c5e589409ab4ee1d18c2f  169   31       0\n",
       "0373317cba1543d5976c3a2cc2f92a79   35  165       1\n",
       "03872a57faf2cf7eb3327e49b27d53bf  137   63       0\n",
       "0389ca1de412788fe6e2ad1aff9a37b2   25  175       1\n",
       "03b9385278a1ec7bdf7e5775c138d7a0   46  154       0\n",
       "04101a3c7a11a159e965fdeb048e9386   20  180       1\n",
       "0794ff63d194999ef7dfbb27fb67830c   24  176       1\n",
       "0d1a59776b24ea8e8a924ddabf09ab14   40  160       1\n",
       "15f18af6d4b4008f87be4bdc68898c23   31  169       1\n",
       "17abfb488b6ca1cfc52310709d811de1   51  149       0\n",
       "18172d25b495577ee01fdf2101dcb3cd   97  103       0\n",
       "19f3683f4f99dfa0de0e4e937e7e3f28  157   43       0\n",
       "1a08dc0ce59a97afaa09cb75fec56b7f   23  177       1\n",
       "1b95d9df96f463fb405d9718da1798fe   49  151       0\n",
       "1d6b3543165c1e22b7db4ecfb1fff4a4   39  161       1"
      ]
     },
     "execution_count": 137,
     "metadata": {},
     "output_type": "execute_result"
    }
   ],
   "source": [
    "freq_es.head(15)"
   ]
  },
  {
   "cell_type": "code",
   "execution_count": 131,
   "id": "c4941c2c",
   "metadata": {},
   "outputs": [
    {
     "name": "stdout",
     "output_type": "stream",
     "text": [
      "<class 'pandas.core.frame.DataFrame'>\n",
      "Index: 100 entries, 03263875c28c5e589409ab4ee1d18c2f to ff231322f3dacfd3fb63a5ed4013d484\n",
      "Data columns (total 3 columns):\n",
      " #   Column  Non-Null Count  Dtype\n",
      "---  ------  --------------  -----\n",
      " 0   0       100 non-null    int64\n",
      " 1   1       100 non-null    int64\n",
      " 2   result  100 non-null    int64\n",
      "dtypes: int64(3)\n",
      "memory usage: 7.2+ KB\n"
     ]
    }
   ],
   "source": [
    "freq_es.info()"
   ]
  },
  {
   "cell_type": "code",
   "execution_count": 134,
   "id": "dad20007",
   "metadata": {},
   "outputs": [],
   "source": [
    "def get_author_output(df, delimeter):\n",
    "    for i in range(0, int(df.shape[0])):\n",
    "        if df.iloc[i,0] >= delimeter:\n",
    "            df.iloc[i,2] = 0\n",
    "        else:\n",
    "            df.iloc[i,2] = 1\n",
    "    return df"
   ]
  },
  {
   "cell_type": "code",
   "execution_count": 135,
   "id": "178ece65",
   "metadata": {},
   "outputs": [],
   "source": [
    "freq_es = get_author_output(freq_es, median_0)"
   ]
  },
  {
   "cell_type": "code",
   "execution_count": 136,
   "id": "f0dbdf3f",
   "metadata": {},
   "outputs": [
    {
     "data": {
      "text/plain": [
       "0    50\n",
       "1    50\n",
       "Name: result, dtype: int64"
      ]
     },
     "execution_count": 136,
     "metadata": {},
     "output_type": "execute_result"
    }
   ],
   "source": [
    "freq_es.result.value_counts()"
   ]
  },
  {
   "cell_type": "code",
   "execution_count": 139,
   "id": "91a5949c",
   "metadata": {},
   "outputs": [
    {
     "name": "stdout",
     "output_type": "stream",
     "text": [
      "03263875c28c5e589409ab4ee1d18c2f 0\n",
      "0373317cba1543d5976c3a2cc2f92a79 1\n",
      "03872a57faf2cf7eb3327e49b27d53bf 0\n",
      "0389ca1de412788fe6e2ad1aff9a37b2 1\n",
      "03b9385278a1ec7bdf7e5775c138d7a0 0\n",
      "04101a3c7a11a159e965fdeb048e9386 1\n",
      "0794ff63d194999ef7dfbb27fb67830c 1\n",
      "0d1a59776b24ea8e8a924ddabf09ab14 1\n",
      "15f18af6d4b4008f87be4bdc68898c23 1\n",
      "17abfb488b6ca1cfc52310709d811de1 0\n",
      "18172d25b495577ee01fdf2101dcb3cd 0\n",
      "19f3683f4f99dfa0de0e4e937e7e3f28 0\n",
      "1a08dc0ce59a97afaa09cb75fec56b7f 1\n",
      "1b95d9df96f463fb405d9718da1798fe 0\n",
      "1d6b3543165c1e22b7db4ecfb1fff4a4 1\n",
      "1e8e213913f796e4114f2422fb97c532 0\n",
      "26add9f0d7818961f984f889fb1d1f3f 0\n",
      "290a1bab7de4d014773e389b37375586 1\n",
      "2e57218e7912c49c1e68d508c5fb1eda 0\n",
      "2ef652b2e2f47ed37813af4eead72f2d 0\n",
      "305ff3d0cc125cd9552b8ff1aad5df46 0\n",
      "335869e32becfc88c7d85eefa141540f 1\n",
      "34aea5b60fdc422a087818eb931efaee 1\n",
      "356e6d8242cbd06f0522a9b048ca9fe3 0\n",
      "38dcd0a9fa868600da9a09eb3026848e 0\n",
      "3933fd031f1f8ccfc7f42dbec07cb65d 1\n",
      "3ba4d15387188355e0869fcab5b8f0d4 1\n",
      "3d6535ead17b2653c70059e7b7d5c2dd 1\n",
      "40df1901733dcb1bcbc0d5d2e97b50f0 1\n",
      "41fb54bd2fec27cd09edd24b07c0902a 1\n",
      "46a89daf000cb6e2fd5e282c13c0a836 1\n",
      "488bd61e7feb16643e91ea91465a8ec6 1\n",
      "516b34b970ec1e62ad77ac3cb674f8db 0\n",
      "52835836ab08ce198d4fdd73ddf4dc27 0\n",
      "563bc1a8c223603184c722006d6aa44f 1\n",
      "582207a7385b11017d3d5fe34bcfe10a 1\n",
      "5cd3e71439e942c65a65bc1d13a73dad 0\n",
      "5dea24c89ecb88224cc9a5a549c72954 1\n",
      "5e815a8babe93a2e5ef4aef998017119 0\n",
      "652ecfa77cdd304a12306da2130b4658 1\n",
      "69d556839af1b8b0756f1619a0178247 0\n",
      "6d3a4ae2f313acc5a70060e426d063f6 0\n",
      "73f102704b4638a58ad75a699221d0f8 0\n",
      "76f7508d2a62cb19b62d422c6d04e87c 1\n",
      "78dc139860cb2a5258967a46f6150d65 1\n",
      "7a2a659a74950efbe75c1e371307af93 0\n",
      "7afbebbce5999ce61e4a6c1ca85a12c2 0\n",
      "7b5c34c0d03cf69dd4a4c1d753d5a7e6 0\n",
      "7ec356fe562bbe3bc5e2fd6287a8e264 1\n",
      "7f7b300e651cc77897f265dff127bc06 0\n",
      "824541632a28ecdfbe8512cb55aa8fb0 0\n",
      "82dad80968486ad44c11c4d182753a93 0\n",
      "83db3fbcd1e8c4ec15fe23b20552a616 0\n",
      "8d9f8964b06e7dbda5426f0e5d2327ef 0\n",
      "8f6d5e43e5ab336ce3e377ca059c7bad 1\n",
      "92afc5162d6f654f5b3380a92366fcc9 0\n",
      "937062ce540e211d24f98361f56862e4 1\n",
      "93c8211c1936cf230cff482e23983b50 1\n",
      "9425eedee90cd411d89a6499328e8b3e 0\n",
      "944d10c5727c08e32550b73799530c15 1\n",
      "986249816f04ecdce4684bb818236183 0\n",
      "99aa785ee99f0c77a9490bf66a63076c 0\n",
      "99eae57cf6e826d6b1b5a3f10b1d5776 1\n",
      "9ab2238645b60951b9dbd6a53ad95d5f 0\n",
      "9fed976f08267f1e9f87904aebf65e63 1\n",
      "a14e114af8e84a513f8ccd0beffe5fab 0\n",
      "a1b9a165993b71373aa35e5fe2114232 1\n",
      "abe6e4a4fc50deedd38a6ca576d95dad 0\n",
      "ac9a50724120742299e42b11c875fe8c 1\n",
      "ad426047147e04f1df6c19a57fcf4471 0\n",
      "b3822564232fb8ecb6f84896c91c6724 0\n",
      "b6e31de389da07af3d104bf991124b9a 1\n",
      "ba594288087885eccdb3d6e2ac278552 0\n",
      "bb1894ee025296ebd68a33f5273630a1 1\n",
      "c055824e43495b5f323ba13a8746fb3f 1\n",
      "c49c4082411d285bd068d3547c157ea4 1\n",
      "c578cabd449057099798284cc7fa1511 0\n",
      "c59f169ce7724ae4e0aec10d8740e950 0\n",
      "c7deb138f9201ccc4c60293f99b6c929 1\n",
      "ca8656e171ddafeb28da3393f9daf3e1 1\n",
      "ce198bc2fa0c5d539971ab9d5a5aa219 1\n",
      "ce27fb17b5887f663ce1d12e26f53e51 0\n",
      "d2d84601d6266031baa83151395d1b54 0\n",
      "d4161c2729e99219f215ff98f4ad9793 1\n",
      "d60af4b5f2a5a80c93881cce09a2fffb 1\n",
      "d79de1992dd7e47cfa3379aaec4112a8 1\n",
      "d85a4f8a6cc5c90a5d35f33f366031c2 0\n",
      "db2f1c456bef8b0ab7f3b460f390d88a 1\n",
      "db8c491467f1581e6e92aa473a9a33d7 1\n",
      "dbf00d94f669373f0bdec17cc89e363c 1\n",
      "dc30863c8cf54fe9f52b03b171de0d38 1\n",
      "dc56dbd184faf59835d0da704f840203 0\n",
      "e6fb1e54cd00d479017b9425977e28ab 0\n",
      "e7be3949db1822e2423a8d18150158a6 0\n",
      "e8a2fed867e38a6ffb404e96221016cf 1\n",
      "eab042e8f14208682c3923f5c3cb2fd5 1\n",
      "eba01a4a68462e333e206c99be7e2830 1\n",
      "ee15094987298282e6fe8f093cdf4d94 0\n",
      "fe3bd38287e375e1a3b61a1649837669 0\n",
      "ff231322f3dacfd3fb63a5ed4013d484 0\n"
     ]
    }
   ],
   "source": [
    "for i in range(0, int(freq_es.shape[0])):\n",
    "    a_id = str(freq_es.index[i])\n",
    "    pred = freq_es.iloc[i,2]\n",
    "    print(a_id, pred)\n",
    "    root = ET.Element(\"author\", id =a_id, lang=\"es\", type=str(pred))\n",
    "    tree = ET.ElementTree(root)\n",
    "    tree.write(\"results_es/\"+ a_id + \".xml\")"
   ]
  },
  {
   "cell_type": "code",
   "execution_count": null,
   "id": "67a498c2",
   "metadata": {},
   "outputs": [],
   "source": []
  }
 ],
 "metadata": {
  "environment": {
   "name": "pytorch-gpu.1-8.m69",
   "type": "gcloud",
   "uri": "gcr.io/deeplearning-platform-release/pytorch-gpu.1-8:m69"
  },
  "kernelspec": {
   "display_name": "Python 3",
   "language": "python",
   "name": "python3"
  },
  "language_info": {
   "codemirror_mode": {
    "name": "ipython",
    "version": 3
   },
   "file_extension": ".py",
   "mimetype": "text/x-python",
   "name": "python",
   "nbconvert_exporter": "python",
   "pygments_lexer": "ipython3",
   "version": "3.7.10"
  }
 },
 "nbformat": 4,
 "nbformat_minor": 5
}
