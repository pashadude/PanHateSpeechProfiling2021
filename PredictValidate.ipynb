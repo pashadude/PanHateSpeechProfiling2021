{
 "cells": [
  {
   "cell_type": "code",
   "execution_count": 168,
   "id": "af3ef23e",
   "metadata": {},
   "outputs": [],
   "source": [
    "from transformers import T5Tokenizer, T5Model, T5ForConditionalGeneration, MT5ForConditionalGeneration, MT5Tokenizer\n",
    "import pandas as pd\n",
    "import numpy as np\n",
    "import os\n",
    "import xml.etree.ElementTree as ET\n",
    "from sklearn.metrics import f1_score\n",
    "from pathlib import Path\n",
    "from pandarallel import pandarallel\n",
    "from multiprocessing import Pool\n",
    "import random"
   ]
  },
  {
   "cell_type": "code",
   "execution_count": 126,
   "id": "63e402bf",
   "metadata": {},
   "outputs": [],
   "source": [
    "pathlist = Path('en-test').glob('**/*.xml')\n",
    "ids=[]\n",
    "x_raw=[]\n",
    "for path in pathlist:  \n",
    "    head, tail = os.path.split(path)\n",
    "    t=tail.split(\".\")\n",
    "    path_in_str = str(path)\n",
    "    tree = ET.parse(path_in_str)\n",
    "    root = tree.getroot()\n",
    "    for child in root:\n",
    "        xi=[]\n",
    "        for ch in child:\n",
    "            ids.append(t[0])\n",
    "            x_raw.append(ch.text)\n",
    "\n",
    "test_df=pd.DataFrame()\n",
    "test_df[\"id\"]=ids\n",
    "test_df[\"tweets\"]=x_raw"
   ]
  },
  {
   "cell_type": "code",
   "execution_count": 127,
   "id": "93ddbd21",
   "metadata": {},
   "outputs": [
    {
     "name": "stdout",
     "output_type": "stream",
     "text": [
      "<class 'pandas.core.frame.DataFrame'>\n",
      "RangeIndex: 20000 entries, 0 to 19999\n",
      "Data columns (total 2 columns):\n",
      " #   Column  Non-Null Count  Dtype \n",
      "---  ------  --------------  ----- \n",
      " 0   id      20000 non-null  object\n",
      " 1   tweets  20000 non-null  object\n",
      "dtypes: object(2)\n",
      "memory usage: 312.6+ KB\n"
     ]
    }
   ],
   "source": [
    "test_df.info()"
   ]
  },
  {
   "cell_type": "code",
   "execution_count": 128,
   "id": "d0a35385",
   "metadata": {},
   "outputs": [],
   "source": [
    "model_alt = T5ForConditionalGeneration.from_pretrained(\"PaulAdversarial/T5_PAN_Hate_Speech_Twitter_topic_author_ishatespeach\")"
   ]
  },
  {
   "cell_type": "code",
   "execution_count": 129,
   "id": "0599adc3",
   "metadata": {},
   "outputs": [],
   "source": [
    "model = T5ForConditionalGeneration.from_pretrained(\"PaulAdversarial/T5_PAN_Hate_Speech_Twitter_topic_ishatespeach\")"
   ]
  },
  {
   "cell_type": "code",
   "execution_count": 130,
   "id": "8645c13d",
   "metadata": {},
   "outputs": [],
   "source": [
    "tokenizer = T5Tokenizer.from_pretrained(\"PaulAdversarial/T5_PAN_Hate_Speech_Twitter_topic_author_ishatespeach\")"
   ]
  },
  {
   "cell_type": "code",
   "execution_count": 131,
   "id": "d9c651a5",
   "metadata": {},
   "outputs": [
    {
     "name": "stderr",
     "output_type": "stream",
     "text": [
      "/opt/conda/lib/python3.7/site-packages/IPython/core/interactiveshell.py:3170: DtypeWarning: Columns (4,5) have mixed types.Specify dtype option on import or set low_memory=False.\n",
      "  interactivity=interactivity, compiler=compiler, result=result)\n"
     ]
    }
   ],
   "source": [
    "df = pd.read_csv('train_df.csv')\n",
    "#reading the pre-processed data"
   ]
  },
  {
   "cell_type": "code",
   "execution_count": 132,
   "id": "f141fcc8",
   "metadata": {},
   "outputs": [
    {
     "data": {
      "text/html": [
       "<div>\n",
       "<style scoped>\n",
       "    .dataframe tbody tr th:only-of-type {\n",
       "        vertical-align: middle;\n",
       "    }\n",
       "\n",
       "    .dataframe tbody tr th {\n",
       "        vertical-align: top;\n",
       "    }\n",
       "\n",
       "    .dataframe thead th {\n",
       "        text-align: right;\n",
       "    }\n",
       "</style>\n",
       "<table border=\"1\" class=\"dataframe\">\n",
       "  <thead>\n",
       "    <tr style=\"text-align: right;\">\n",
       "      <th></th>\n",
       "      <th>Unnamed: 0</th>\n",
       "      <th>input_text</th>\n",
       "      <th>prefix</th>\n",
       "      <th>target</th>\n",
       "      <th>output</th>\n",
       "      <th>output_alt</th>\n",
       "    </tr>\n",
       "  </thead>\n",
       "  <tbody>\n",
       "    <tr>\n",
       "      <th>0</th>\n",
       "      <td>0</td>\n",
       "      <td>rt user funny how 15 days to slow the spread t...</td>\n",
       "      <td>hater classification</td>\n",
       "      <td>neutral</td>\n",
       "      <td>neutral</td>\n",
       "      <td>neutral</td>\n",
       "    </tr>\n",
       "    <tr>\n",
       "      <th>1</th>\n",
       "      <td>1</td>\n",
       "      <td>rt user why did minneapolis just give george f...</td>\n",
       "      <td>hater classification</td>\n",
       "      <td>neutral</td>\n",
       "      <td>neutral</td>\n",
       "      <td>neutral</td>\n",
       "    </tr>\n",
       "    <tr>\n",
       "      <th>2</th>\n",
       "      <td>2</td>\n",
       "      <td>rt user to be fair he has done a lot of underc...</td>\n",
       "      <td>hater classification</td>\n",
       "      <td>neutral</td>\n",
       "      <td>neutral</td>\n",
       "      <td>neutral</td>\n",
       "    </tr>\n",
       "    <tr>\n",
       "      <th>3</th>\n",
       "      <td>3</td>\n",
       "      <td>rt user president trump got us the hashtag vac...</td>\n",
       "      <td>hater classification</td>\n",
       "      <td>neutral</td>\n",
       "      <td>hatespeach</td>\n",
       "      <td>hatespeach</td>\n",
       "    </tr>\n",
       "    <tr>\n",
       "      <th>4</th>\n",
       "      <td>4</td>\n",
       "      <td>rt user is the case against former officer der...</td>\n",
       "      <td>hater classification</td>\n",
       "      <td>neutral</td>\n",
       "      <td>neutral</td>\n",
       "      <td>neutral</td>\n",
       "    </tr>\n",
       "  </tbody>\n",
       "</table>\n",
       "</div>"
      ],
      "text/plain": [
       "   Unnamed: 0                                         input_text  \\\n",
       "0           0  rt user funny how 15 days to slow the spread t...   \n",
       "1           1  rt user why did minneapolis just give george f...   \n",
       "2           2  rt user to be fair he has done a lot of underc...   \n",
       "3           3  rt user president trump got us the hashtag vac...   \n",
       "4           4  rt user is the case against former officer der...   \n",
       "\n",
       "                 prefix   target      output  output_alt  \n",
       "0  hater classification  neutral     neutral     neutral  \n",
       "1  hater classification  neutral     neutral     neutral  \n",
       "2  hater classification  neutral     neutral     neutral  \n",
       "3  hater classification  neutral  hatespeach  hatespeach  \n",
       "4  hater classification  neutral     neutral     neutral  "
      ]
     },
     "execution_count": 132,
     "metadata": {},
     "output_type": "execute_result"
    }
   ],
   "source": [
    "df.head()"
   ]
  },
  {
   "cell_type": "code",
   "execution_count": 135,
   "id": "b2d378c7",
   "metadata": {},
   "outputs": [],
   "source": [
    "df=df.drop(columns=\"Unnamed: 0\")"
   ]
  },
  {
   "cell_type": "code",
   "execution_count": 136,
   "id": "1e5e835f",
   "metadata": {},
   "outputs": [
    {
     "name": "stdout",
     "output_type": "stream",
     "text": [
      "<class 'pandas.core.frame.DataFrame'>\n",
      "RangeIndex: 160000 entries, 0 to 159999\n",
      "Data columns (total 5 columns):\n",
      " #   Column      Non-Null Count   Dtype \n",
      "---  ------      --------------   ----- \n",
      " 0   input_text  160000 non-null  object\n",
      " 1   prefix      160000 non-null  object\n",
      " 2   target      160000 non-null  object\n",
      " 3   output      10000 non-null   object\n",
      " 4   output_alt  10000 non-null   object\n",
      "dtypes: object(5)\n",
      "memory usage: 6.1+ MB\n"
     ]
    }
   ],
   "source": [
    "df.info()"
   ]
  },
  {
   "cell_type": "code",
   "execution_count": 137,
   "id": "e037aaae",
   "metadata": {},
   "outputs": [
    {
     "name": "stdout",
     "output_type": "stream",
     "text": [
      "topic classification: rt user happy friday beautiful people \n",
      "class: 78\n"
     ]
    }
   ],
   "source": [
    "tweet = str(df.iloc[80007,1])+ \": \"+ df.iloc[80007,0]\n",
    "print(tweet)\n",
    "input_ids = tokenizer.encode(tweet, return_tensors = \"pt\")\n",
    "output_ids = model.generate(input_ids)\n",
    "print(tokenizer.decode(output_ids[0], skip_special_tokens=True))"
   ]
  },
  {
   "cell_type": "code",
   "execution_count": 138,
   "id": "1b5850d8",
   "metadata": {},
   "outputs": [],
   "source": [
    "df['output'] = \"\"\n",
    "df['output_alt'] = \"\"\n",
    "#df['input'] = df['input_text'].apply(lambda x: \"hater classification: \" + x)\n",
    "#df['input_ids'] = \"\"\n",
    "#df['output_ids'] = \"\"\n",
    "#df['output_alt_ids'] = \"\""
   ]
  },
  {
   "cell_type": "code",
   "execution_count": 140,
   "id": "1a134d30",
   "metadata": {},
   "outputs": [],
   "source": [
    "# ok looks everythong works - let's predict and see the results on train\n",
    "def parallelize_dataframe(df, func, n_cores=4):\n",
    "    df_split = np.array_split(df, n_cores)\n",
    "    pool = Pool(n_cores)\n",
    "    df = pd.concat(pool.map(func, df_split))\n",
    "    pool.close()\n",
    "    pool.join()\n",
    "    return df\n",
    "\n",
    "\n",
    "def predict(df):\n",
    "    df['input_ids'] = df['input'].apply(lambda x: tokenizer.encode(x, return_tensors = \"pt\"))\n",
    "    df['output_ids'] = df['input_ids'].apply(lambda x: model.generate(x))\n",
    "    df['output_alt_ids'] = df['input_ids'].apply(lambda x: model_alt.generate(x))\n",
    "    df['output'] = df['output_ids'].apply(lambda x: str(tokenizer.decode(x, skip_special_tokens=True)))\n",
    "    df['output_alt'] = df['output_alt_ids'].apply(lambda x: str(tokenizer.decode(x, skip_special_tokens=True)))\n",
    "    return df\n",
    "\n",
    "def straight_predict(df):\n",
    "    for i in range(0,40000):\n",
    "        #print(i)\n",
    "        tweet = \"hater classification: \"+ df.iloc[i,0]\n",
    "        input_ids = tokenizer.encode(tweet, return_tensors = \"pt\")\n",
    "        output_ids = model.generate(input_ids)\n",
    "        output_a_ids = model_alt.generate(input_ids)\n",
    "        output = str(tokenizer.decode(output_ids[0], skip_special_tokens=True))\n",
    "        output_a = str(tokenizer.decode(output_a_ids[0], skip_special_tokens=True))\n",
    "        df.iloc[i,3]=output\n",
    "        df.iloc[i,4]=output_a\n",
    "        if i%4000==0:\n",
    "            print(\"{} % complete\".format(i/400))\n",
    "    return df"
   ]
  },
  {
   "cell_type": "code",
   "execution_count": 141,
   "id": "adc13b03",
   "metadata": {},
   "outputs": [
    {
     "name": "stdout",
     "output_type": "stream",
     "text": [
      "0.0 % complete\n",
      "10.0 % complete\n",
      "20.0 % complete\n",
      "30.0 % complete\n",
      "40.0 % complete\n",
      "50.0 % complete\n",
      "60.0 % complete\n",
      "70.0 % complete\n",
      "80.0 % complete\n",
      "90.0 % complete\n"
     ]
    }
   ],
   "source": [
    "#df = parallelize_dataframe(df, straight_predict, n_cores=20)\n",
    "df = straight_predict(df)"
   ]
  },
  {
   "cell_type": "code",
   "execution_count": 142,
   "id": "e131176c",
   "metadata": {},
   "outputs": [],
   "source": [
    "def replace_bin(x):\n",
    "    if x=='neutral':\n",
    "        x=0\n",
    "    elif(x=='hatespeach'):\n",
    "        x=1\n",
    "    else:\n",
    "        print(x)\n",
    "        x=0\n",
    "    return int(x)"
   ]
  },
  {
   "cell_type": "code",
   "execution_count": 146,
   "id": "59d9c950",
   "metadata": {},
   "outputs": [],
   "source": [
    "df = df[0:40000]"
   ]
  },
  {
   "cell_type": "code",
   "execution_count": 147,
   "id": "93bc5bfa",
   "metadata": {},
   "outputs": [
    {
     "data": {
      "text/html": [
       "<div>\n",
       "<style scoped>\n",
       "    .dataframe tbody tr th:only-of-type {\n",
       "        vertical-align: middle;\n",
       "    }\n",
       "\n",
       "    .dataframe tbody tr th {\n",
       "        vertical-align: top;\n",
       "    }\n",
       "\n",
       "    .dataframe thead th {\n",
       "        text-align: right;\n",
       "    }\n",
       "</style>\n",
       "<table border=\"1\" class=\"dataframe\">\n",
       "  <thead>\n",
       "    <tr style=\"text-align: right;\">\n",
       "      <th></th>\n",
       "      <th>input_text</th>\n",
       "      <th>prefix</th>\n",
       "      <th>target</th>\n",
       "      <th>output</th>\n",
       "      <th>output_alt</th>\n",
       "    </tr>\n",
       "  </thead>\n",
       "  <tbody>\n",
       "    <tr>\n",
       "      <th>0</th>\n",
       "      <td>rt user funny how 15 days to slow the spread t...</td>\n",
       "      <td>hater classification</td>\n",
       "      <td>neutral</td>\n",
       "      <td>neutral</td>\n",
       "      <td>neutral</td>\n",
       "    </tr>\n",
       "    <tr>\n",
       "      <th>1</th>\n",
       "      <td>rt user why did minneapolis just give george f...</td>\n",
       "      <td>hater classification</td>\n",
       "      <td>neutral</td>\n",
       "      <td>neutral</td>\n",
       "      <td>neutral</td>\n",
       "    </tr>\n",
       "    <tr>\n",
       "      <th>2</th>\n",
       "      <td>rt user to be fair he has done a lot of underc...</td>\n",
       "      <td>hater classification</td>\n",
       "      <td>neutral</td>\n",
       "      <td>neutral</td>\n",
       "      <td>neutral</td>\n",
       "    </tr>\n",
       "    <tr>\n",
       "      <th>3</th>\n",
       "      <td>rt user president trump got us the hashtag vac...</td>\n",
       "      <td>hater classification</td>\n",
       "      <td>neutral</td>\n",
       "      <td>hatespeach</td>\n",
       "      <td>hatespeach</td>\n",
       "    </tr>\n",
       "    <tr>\n",
       "      <th>4</th>\n",
       "      <td>rt user is the case against former officer der...</td>\n",
       "      <td>hater classification</td>\n",
       "      <td>neutral</td>\n",
       "      <td>neutral</td>\n",
       "      <td>neutral</td>\n",
       "    </tr>\n",
       "  </tbody>\n",
       "</table>\n",
       "</div>"
      ],
      "text/plain": [
       "                                          input_text                prefix  \\\n",
       "0  rt user funny how 15 days to slow the spread t...  hater classification   \n",
       "1  rt user why did minneapolis just give george f...  hater classification   \n",
       "2  rt user to be fair he has done a lot of underc...  hater classification   \n",
       "3  rt user president trump got us the hashtag vac...  hater classification   \n",
       "4  rt user is the case against former officer der...  hater classification   \n",
       "\n",
       "    target      output  output_alt  \n",
       "0  neutral     neutral     neutral  \n",
       "1  neutral     neutral     neutral  \n",
       "2  neutral     neutral     neutral  \n",
       "3  neutral  hatespeach  hatespeach  \n",
       "4  neutral     neutral     neutral  "
      ]
     },
     "execution_count": 147,
     "metadata": {},
     "output_type": "execute_result"
    }
   ],
   "source": [
    "df.head()"
   ]
  },
  {
   "cell_type": "code",
   "execution_count": 148,
   "id": "e7589f9b",
   "metadata": {},
   "outputs": [
    {
     "data": {
      "text/plain": [
       "neutral       25783\n",
       "hatespeach    14217\n",
       "Name: output_alt, dtype: int64"
      ]
     },
     "execution_count": 148,
     "metadata": {},
     "output_type": "execute_result"
    }
   ],
   "source": [
    "df.output_alt.value_counts()"
   ]
  },
  {
   "cell_type": "code",
   "execution_count": 149,
   "id": "d0fb7eed",
   "metadata": {},
   "outputs": [
    {
     "data": {
      "text/plain": [
       "neutral       20000\n",
       "hatespeach    20000\n",
       "Name: target, dtype: int64"
      ]
     },
     "execution_count": 149,
     "metadata": {},
     "output_type": "execute_result"
    }
   ],
   "source": [
    "df.target.value_counts()"
   ]
  },
  {
   "cell_type": "code",
   "execution_count": 150,
   "id": "316b29f1",
   "metadata": {},
   "outputs": [
    {
     "name": "stdout",
     "output_type": "stream",
     "text": [
      "INFO: Pandarallel will run on 16 workers.\n",
      "INFO: Pandarallel will use Memory file system to transfer data between the main process and workers.\n",
      "neutral: 104\n",
      "0\n"
     ]
    }
   ],
   "source": [
    "#t5 generatoer did not ework with parallel computing due to some bugs so we start to using it only here\n",
    "pandarallel.initialize()\n",
    "df['target_num'] = df['target'].parallel_apply(replace_bin)\n",
    "df['output_num'] = df['output'].parallel_apply(replace_bin)\n",
    "df['output_alt_num'] = df['output_alt'].parallel_apply(replace_bin)"
   ]
  },
  {
   "cell_type": "code",
   "execution_count": 151,
   "id": "4c0ded65",
   "metadata": {},
   "outputs": [
    {
     "name": "stdout",
     "output_type": "stream",
     "text": [
      "<class 'pandas.core.frame.DataFrame'>\n",
      "RangeIndex: 40000 entries, 0 to 39999\n",
      "Data columns (total 8 columns):\n",
      " #   Column          Non-Null Count  Dtype \n",
      "---  ------          --------------  ----- \n",
      " 0   input_text      40000 non-null  object\n",
      " 1   prefix          40000 non-null  object\n",
      " 2   target          40000 non-null  object\n",
      " 3   output          40000 non-null  object\n",
      " 4   output_alt      40000 non-null  object\n",
      " 5   target_num      40000 non-null  int64 \n",
      " 6   output_num      40000 non-null  int64 \n",
      " 7   output_alt_num  40000 non-null  int64 \n",
      "dtypes: int64(3), object(5)\n",
      "memory usage: 2.4+ MB\n"
     ]
    }
   ],
   "source": [
    "df.info()"
   ]
  },
  {
   "cell_type": "code",
   "execution_count": 152,
   "id": "da633ac9",
   "metadata": {},
   "outputs": [],
   "source": [
    "def assign_max(df,step=200, weight=0.35):\n",
    "    for i in range(0, int(df.shape[0]/step)):\n",
    "        df.loc[i*step:(i+1)*step-1,'output_num_avg'] = int(round(df.loc[i*step:(i+1)*step-1,'output_num'].mean()))\n",
    "        df.loc[i*step:(i+1)*step-1,'output_alt_num_avg'] = int(round(df.loc[i*step:(i+1)*step-1,'output_alt_num'].mean()))\n",
    "        df.loc[i*step:(i+1)*step-1,'output_mix_num_avg'] = int(round(weight*df.loc[i*step:(i+1)*step-1,'output_alt_num'].mean()+(1-weight)*df.loc[i*step:(i+1)*step-1,'output_num'].mean()))\n",
    "    return df"
   ]
  },
  {
   "cell_type": "code",
   "execution_count": 153,
   "id": "e4b7ac9f",
   "metadata": {},
   "outputs": [],
   "source": [
    "df = assign_max(df)"
   ]
  },
  {
   "cell_type": "code",
   "execution_count": 154,
   "id": "5bb2fa70",
   "metadata": {},
   "outputs": [],
   "source": [
    "df.output_num_avg = df.output_num_avg.astype(int)\n",
    "df.output_alt_num_avg = df.output_alt_num_avg.astype(int)\n",
    "df.output_mix_num_avg = df.output_mix_num_avg.astype(int)"
   ]
  },
  {
   "cell_type": "code",
   "execution_count": 155,
   "id": "e582ec5d",
   "metadata": {},
   "outputs": [
    {
     "data": {
      "text/plain": [
       "count    40000.000000\n",
       "mean         0.578425\n",
       "std          0.493817\n",
       "min          0.000000\n",
       "25%          0.000000\n",
       "50%          1.000000\n",
       "75%          1.000000\n",
       "max          1.000000\n",
       "Name: output_num, dtype: float64"
      ]
     },
     "execution_count": 155,
     "metadata": {},
     "output_type": "execute_result"
    }
   ],
   "source": [
    "df.output_num.describe()"
   ]
  },
  {
   "cell_type": "code",
   "execution_count": 156,
   "id": "194ce6a7",
   "metadata": {},
   "outputs": [
    {
     "data": {
      "text/plain": [
       "count    40000.000000\n",
       "mean         0.500000\n",
       "std          0.500006\n",
       "min          0.000000\n",
       "25%          0.000000\n",
       "50%          0.500000\n",
       "75%          1.000000\n",
       "max          1.000000\n",
       "Name: target_num, dtype: float64"
      ]
     },
     "execution_count": 156,
     "metadata": {},
     "output_type": "execute_result"
    }
   ],
   "source": [
    "df.target_num.describe()"
   ]
  },
  {
   "cell_type": "code",
   "execution_count": 157,
   "id": "2af38a5f",
   "metadata": {},
   "outputs": [
    {
     "data": {
      "text/html": [
       "<div>\n",
       "<style scoped>\n",
       "    .dataframe tbody tr th:only-of-type {\n",
       "        vertical-align: middle;\n",
       "    }\n",
       "\n",
       "    .dataframe tbody tr th {\n",
       "        vertical-align: top;\n",
       "    }\n",
       "\n",
       "    .dataframe thead th {\n",
       "        text-align: right;\n",
       "    }\n",
       "</style>\n",
       "<table border=\"1\" class=\"dataframe\">\n",
       "  <thead>\n",
       "    <tr style=\"text-align: right;\">\n",
       "      <th></th>\n",
       "      <th>target_num</th>\n",
       "      <th>output_num</th>\n",
       "      <th>output_alt_num</th>\n",
       "      <th>output_num_avg</th>\n",
       "      <th>output_alt_num_avg</th>\n",
       "      <th>output_mix_num_avg</th>\n",
       "    </tr>\n",
       "  </thead>\n",
       "  <tbody>\n",
       "    <tr>\n",
       "      <th>count</th>\n",
       "      <td>40000.000000</td>\n",
       "      <td>40000.000000</td>\n",
       "      <td>40000.000000</td>\n",
       "      <td>40000.000000</td>\n",
       "      <td>40000.000000</td>\n",
       "      <td>40000.000000</td>\n",
       "    </tr>\n",
       "    <tr>\n",
       "      <th>mean</th>\n",
       "      <td>0.500000</td>\n",
       "      <td>0.578425</td>\n",
       "      <td>0.355425</td>\n",
       "      <td>0.585000</td>\n",
       "      <td>0.355000</td>\n",
       "      <td>0.500000</td>\n",
       "    </tr>\n",
       "    <tr>\n",
       "      <th>std</th>\n",
       "      <td>0.500006</td>\n",
       "      <td>0.493817</td>\n",
       "      <td>0.478648</td>\n",
       "      <td>0.492728</td>\n",
       "      <td>0.478519</td>\n",
       "      <td>0.500006</td>\n",
       "    </tr>\n",
       "    <tr>\n",
       "      <th>min</th>\n",
       "      <td>0.000000</td>\n",
       "      <td>0.000000</td>\n",
       "      <td>0.000000</td>\n",
       "      <td>0.000000</td>\n",
       "      <td>0.000000</td>\n",
       "      <td>0.000000</td>\n",
       "    </tr>\n",
       "    <tr>\n",
       "      <th>25%</th>\n",
       "      <td>0.000000</td>\n",
       "      <td>0.000000</td>\n",
       "      <td>0.000000</td>\n",
       "      <td>0.000000</td>\n",
       "      <td>0.000000</td>\n",
       "      <td>0.000000</td>\n",
       "    </tr>\n",
       "    <tr>\n",
       "      <th>50%</th>\n",
       "      <td>0.500000</td>\n",
       "      <td>1.000000</td>\n",
       "      <td>0.000000</td>\n",
       "      <td>1.000000</td>\n",
       "      <td>0.000000</td>\n",
       "      <td>0.500000</td>\n",
       "    </tr>\n",
       "    <tr>\n",
       "      <th>75%</th>\n",
       "      <td>1.000000</td>\n",
       "      <td>1.000000</td>\n",
       "      <td>1.000000</td>\n",
       "      <td>1.000000</td>\n",
       "      <td>1.000000</td>\n",
       "      <td>1.000000</td>\n",
       "    </tr>\n",
       "    <tr>\n",
       "      <th>max</th>\n",
       "      <td>1.000000</td>\n",
       "      <td>1.000000</td>\n",
       "      <td>1.000000</td>\n",
       "      <td>1.000000</td>\n",
       "      <td>1.000000</td>\n",
       "      <td>1.000000</td>\n",
       "    </tr>\n",
       "  </tbody>\n",
       "</table>\n",
       "</div>"
      ],
      "text/plain": [
       "         target_num    output_num  output_alt_num  output_num_avg  \\\n",
       "count  40000.000000  40000.000000    40000.000000    40000.000000   \n",
       "mean       0.500000      0.578425        0.355425        0.585000   \n",
       "std        0.500006      0.493817        0.478648        0.492728   \n",
       "min        0.000000      0.000000        0.000000        0.000000   \n",
       "25%        0.000000      0.000000        0.000000        0.000000   \n",
       "50%        0.500000      1.000000        0.000000        1.000000   \n",
       "75%        1.000000      1.000000        1.000000        1.000000   \n",
       "max        1.000000      1.000000        1.000000        1.000000   \n",
       "\n",
       "       output_alt_num_avg  output_mix_num_avg  \n",
       "count        40000.000000        40000.000000  \n",
       "mean             0.355000            0.500000  \n",
       "std              0.478519            0.500006  \n",
       "min              0.000000            0.000000  \n",
       "25%              0.000000            0.000000  \n",
       "50%              0.000000            0.500000  \n",
       "75%              1.000000            1.000000  \n",
       "max              1.000000            1.000000  "
      ]
     },
     "execution_count": 157,
     "metadata": {},
     "output_type": "execute_result"
    }
   ],
   "source": [
    "df.describe()"
   ]
  },
  {
   "cell_type": "code",
   "execution_count": 158,
   "id": "1fca1ee3",
   "metadata": {},
   "outputs": [
    {
     "name": "stdout",
     "output_type": "stream",
     "text": [
      "<class 'pandas.core.frame.DataFrame'>\n",
      "RangeIndex: 40000 entries, 0 to 39999\n",
      "Data columns (total 11 columns):\n",
      " #   Column              Non-Null Count  Dtype \n",
      "---  ------              --------------  ----- \n",
      " 0   input_text          40000 non-null  object\n",
      " 1   prefix              40000 non-null  object\n",
      " 2   target              40000 non-null  object\n",
      " 3   output              40000 non-null  object\n",
      " 4   output_alt          40000 non-null  object\n",
      " 5   target_num          40000 non-null  int64 \n",
      " 6   output_num          40000 non-null  int64 \n",
      " 7   output_alt_num      40000 non-null  int64 \n",
      " 8   output_num_avg      40000 non-null  int64 \n",
      " 9   output_alt_num_avg  40000 non-null  int64 \n",
      " 10  output_mix_num_avg  40000 non-null  int64 \n",
      "dtypes: int64(6), object(5)\n",
      "memory usage: 3.4+ MB\n"
     ]
    }
   ],
   "source": [
    "df.info()"
   ]
  },
  {
   "cell_type": "code",
   "execution_count": 159,
   "id": "9b7794ab",
   "metadata": {},
   "outputs": [
    {
     "data": {
      "text/html": [
       "<div>\n",
       "<style scoped>\n",
       "    .dataframe tbody tr th:only-of-type {\n",
       "        vertical-align: middle;\n",
       "    }\n",
       "\n",
       "    .dataframe tbody tr th {\n",
       "        vertical-align: top;\n",
       "    }\n",
       "\n",
       "    .dataframe thead th {\n",
       "        text-align: right;\n",
       "    }\n",
       "</style>\n",
       "<table border=\"1\" class=\"dataframe\">\n",
       "  <thead>\n",
       "    <tr style=\"text-align: right;\">\n",
       "      <th></th>\n",
       "      <th>input_text</th>\n",
       "      <th>prefix</th>\n",
       "      <th>target</th>\n",
       "      <th>output</th>\n",
       "      <th>output_alt</th>\n",
       "      <th>target_num</th>\n",
       "      <th>output_num</th>\n",
       "      <th>output_alt_num</th>\n",
       "      <th>output_num_avg</th>\n",
       "      <th>output_alt_num_avg</th>\n",
       "      <th>output_mix_num_avg</th>\n",
       "    </tr>\n",
       "  </thead>\n",
       "  <tbody>\n",
       "    <tr>\n",
       "      <th>0</th>\n",
       "      <td>rt user funny how 15 days to slow the spread t...</td>\n",
       "      <td>hater classification</td>\n",
       "      <td>neutral</td>\n",
       "      <td>neutral</td>\n",
       "      <td>neutral</td>\n",
       "      <td>0</td>\n",
       "      <td>0</td>\n",
       "      <td>0</td>\n",
       "      <td>0</td>\n",
       "      <td>0</td>\n",
       "      <td>0</td>\n",
       "    </tr>\n",
       "    <tr>\n",
       "      <th>1</th>\n",
       "      <td>rt user why did minneapolis just give george f...</td>\n",
       "      <td>hater classification</td>\n",
       "      <td>neutral</td>\n",
       "      <td>neutral</td>\n",
       "      <td>neutral</td>\n",
       "      <td>0</td>\n",
       "      <td>0</td>\n",
       "      <td>0</td>\n",
       "      <td>0</td>\n",
       "      <td>0</td>\n",
       "      <td>0</td>\n",
       "    </tr>\n",
       "    <tr>\n",
       "      <th>2</th>\n",
       "      <td>rt user to be fair he has done a lot of underc...</td>\n",
       "      <td>hater classification</td>\n",
       "      <td>neutral</td>\n",
       "      <td>neutral</td>\n",
       "      <td>neutral</td>\n",
       "      <td>0</td>\n",
       "      <td>0</td>\n",
       "      <td>0</td>\n",
       "      <td>0</td>\n",
       "      <td>0</td>\n",
       "      <td>0</td>\n",
       "    </tr>\n",
       "    <tr>\n",
       "      <th>3</th>\n",
       "      <td>rt user president trump got us the hashtag vac...</td>\n",
       "      <td>hater classification</td>\n",
       "      <td>neutral</td>\n",
       "      <td>hatespeach</td>\n",
       "      <td>hatespeach</td>\n",
       "      <td>0</td>\n",
       "      <td>1</td>\n",
       "      <td>1</td>\n",
       "      <td>0</td>\n",
       "      <td>0</td>\n",
       "      <td>0</td>\n",
       "    </tr>\n",
       "    <tr>\n",
       "      <th>4</th>\n",
       "      <td>rt user is the case against former officer der...</td>\n",
       "      <td>hater classification</td>\n",
       "      <td>neutral</td>\n",
       "      <td>neutral</td>\n",
       "      <td>neutral</td>\n",
       "      <td>0</td>\n",
       "      <td>0</td>\n",
       "      <td>0</td>\n",
       "      <td>0</td>\n",
       "      <td>0</td>\n",
       "      <td>0</td>\n",
       "    </tr>\n",
       "    <tr>\n",
       "      <th>5</th>\n",
       "      <td>rt user the fbi cia and military now feel tota...</td>\n",
       "      <td>hater classification</td>\n",
       "      <td>neutral</td>\n",
       "      <td>hatespeach</td>\n",
       "      <td>neutral</td>\n",
       "      <td>0</td>\n",
       "      <td>1</td>\n",
       "      <td>0</td>\n",
       "      <td>0</td>\n",
       "      <td>0</td>\n",
       "      <td>0</td>\n",
       "    </tr>\n",
       "    <tr>\n",
       "      <th>6</th>\n",
       "      <td>rt user biden bashed for taking all credit for...</td>\n",
       "      <td>hater classification</td>\n",
       "      <td>neutral</td>\n",
       "      <td>neutral</td>\n",
       "      <td>hatespeach</td>\n",
       "      <td>0</td>\n",
       "      <td>0</td>\n",
       "      <td>1</td>\n",
       "      <td>0</td>\n",
       "      <td>0</td>\n",
       "      <td>0</td>\n",
       "    </tr>\n",
       "    <tr>\n",
       "      <th>7</th>\n",
       "      <td>rt user biden's disappointing prime  time spee...</td>\n",
       "      <td>hater classification</td>\n",
       "      <td>neutral</td>\n",
       "      <td>hatespeach</td>\n",
       "      <td>neutral</td>\n",
       "      <td>0</td>\n",
       "      <td>1</td>\n",
       "      <td>0</td>\n",
       "      <td>0</td>\n",
       "      <td>0</td>\n",
       "      <td>0</td>\n",
       "    </tr>\n",
       "    <tr>\n",
       "      <th>8</th>\n",
       "      <td>rt user cuomo should not be worried about resi...</td>\n",
       "      <td>hater classification</td>\n",
       "      <td>neutral</td>\n",
       "      <td>neutral</td>\n",
       "      <td>neutral</td>\n",
       "      <td>0</td>\n",
       "      <td>0</td>\n",
       "      <td>0</td>\n",
       "      <td>0</td>\n",
       "      <td>0</td>\n",
       "      <td>0</td>\n",
       "    </tr>\n",
       "    <tr>\n",
       "      <th>9</th>\n",
       "      <td>rt user breaking family of george floyd settle...</td>\n",
       "      <td>hater classification</td>\n",
       "      <td>neutral</td>\n",
       "      <td>hatespeach</td>\n",
       "      <td>neutral</td>\n",
       "      <td>0</td>\n",
       "      <td>1</td>\n",
       "      <td>0</td>\n",
       "      <td>0</td>\n",
       "      <td>0</td>\n",
       "      <td>0</td>\n",
       "    </tr>\n",
       "    <tr>\n",
       "      <th>10</th>\n",
       "      <td>rt user 8 house republicans vote for democrat ...</td>\n",
       "      <td>hater classification</td>\n",
       "      <td>neutral</td>\n",
       "      <td>hatespeach</td>\n",
       "      <td>hatespeach</td>\n",
       "      <td>0</td>\n",
       "      <td>1</td>\n",
       "      <td>1</td>\n",
       "      <td>0</td>\n",
       "      <td>0</td>\n",
       "      <td>0</td>\n",
       "    </tr>\n",
       "    <tr>\n",
       "      <th>11</th>\n",
       "      <td>rt user every bleeping word of this url</td>\n",
       "      <td>hater classification</td>\n",
       "      <td>neutral</td>\n",
       "      <td>neutral</td>\n",
       "      <td>neutral</td>\n",
       "      <td>0</td>\n",
       "      <td>0</td>\n",
       "      <td>0</td>\n",
       "      <td>0</td>\n",
       "      <td>0</td>\n",
       "      <td>0</td>\n",
       "    </tr>\n",
       "    <tr>\n",
       "      <th>12</th>\n",
       "      <td>rt user mexico 'worried' biden's policies are ...</td>\n",
       "      <td>hater classification</td>\n",
       "      <td>neutral</td>\n",
       "      <td>neutral</td>\n",
       "      <td>neutral</td>\n",
       "      <td>0</td>\n",
       "      <td>0</td>\n",
       "      <td>0</td>\n",
       "      <td>0</td>\n",
       "      <td>0</td>\n",
       "      <td>0</td>\n",
       "    </tr>\n",
       "    <tr>\n",
       "      <th>13</th>\n",
       "      <td>rt user break aoc demands cuomo resignation ad...</td>\n",
       "      <td>hater classification</td>\n",
       "      <td>neutral</td>\n",
       "      <td>neutral</td>\n",
       "      <td>neutral</td>\n",
       "      <td>0</td>\n",
       "      <td>0</td>\n",
       "      <td>0</td>\n",
       "      <td>0</td>\n",
       "      <td>0</td>\n",
       "      <td>0</td>\n",
       "    </tr>\n",
       "    <tr>\n",
       "      <th>14</th>\n",
       "      <td>rt user i will go 100 bitcoin if i have to you...</td>\n",
       "      <td>hater classification</td>\n",
       "      <td>neutral</td>\n",
       "      <td>neutral</td>\n",
       "      <td>neutral</td>\n",
       "      <td>0</td>\n",
       "      <td>0</td>\n",
       "      <td>0</td>\n",
       "      <td>0</td>\n",
       "      <td>0</td>\n",
       "      <td>0</td>\n",
       "    </tr>\n",
       "  </tbody>\n",
       "</table>\n",
       "</div>"
      ],
      "text/plain": [
       "                                           input_text                prefix  \\\n",
       "0   rt user funny how 15 days to slow the spread t...  hater classification   \n",
       "1   rt user why did minneapolis just give george f...  hater classification   \n",
       "2   rt user to be fair he has done a lot of underc...  hater classification   \n",
       "3   rt user president trump got us the hashtag vac...  hater classification   \n",
       "4   rt user is the case against former officer der...  hater classification   \n",
       "5   rt user the fbi cia and military now feel tota...  hater classification   \n",
       "6   rt user biden bashed for taking all credit for...  hater classification   \n",
       "7   rt user biden's disappointing prime  time spee...  hater classification   \n",
       "8   rt user cuomo should not be worried about resi...  hater classification   \n",
       "9   rt user breaking family of george floyd settle...  hater classification   \n",
       "10  rt user 8 house republicans vote for democrat ...  hater classification   \n",
       "11            rt user every bleeping word of this url  hater classification   \n",
       "12  rt user mexico 'worried' biden's policies are ...  hater classification   \n",
       "13  rt user break aoc demands cuomo resignation ad...  hater classification   \n",
       "14  rt user i will go 100 bitcoin if i have to you...  hater classification   \n",
       "\n",
       "     target      output  output_alt  target_num  output_num  output_alt_num  \\\n",
       "0   neutral     neutral     neutral           0           0               0   \n",
       "1   neutral     neutral     neutral           0           0               0   \n",
       "2   neutral     neutral     neutral           0           0               0   \n",
       "3   neutral  hatespeach  hatespeach           0           1               1   \n",
       "4   neutral     neutral     neutral           0           0               0   \n",
       "5   neutral  hatespeach     neutral           0           1               0   \n",
       "6   neutral     neutral  hatespeach           0           0               1   \n",
       "7   neutral  hatespeach     neutral           0           1               0   \n",
       "8   neutral     neutral     neutral           0           0               0   \n",
       "9   neutral  hatespeach     neutral           0           1               0   \n",
       "10  neutral  hatespeach  hatespeach           0           1               1   \n",
       "11  neutral     neutral     neutral           0           0               0   \n",
       "12  neutral     neutral     neutral           0           0               0   \n",
       "13  neutral     neutral     neutral           0           0               0   \n",
       "14  neutral     neutral     neutral           0           0               0   \n",
       "\n",
       "    output_num_avg  output_alt_num_avg  output_mix_num_avg  \n",
       "0                0                   0                   0  \n",
       "1                0                   0                   0  \n",
       "2                0                   0                   0  \n",
       "3                0                   0                   0  \n",
       "4                0                   0                   0  \n",
       "5                0                   0                   0  \n",
       "6                0                   0                   0  \n",
       "7                0                   0                   0  \n",
       "8                0                   0                   0  \n",
       "9                0                   0                   0  \n",
       "10               0                   0                   0  \n",
       "11               0                   0                   0  \n",
       "12               0                   0                   0  \n",
       "13               0                   0                   0  \n",
       "14               0                   0                   0  "
      ]
     },
     "execution_count": 159,
     "metadata": {},
     "output_type": "execute_result"
    }
   ],
   "source": [
    "df.head(15)"
   ]
  },
  {
   "cell_type": "code",
   "execution_count": 160,
   "id": "bac06f71",
   "metadata": {},
   "outputs": [
    {
     "data": {
      "text/plain": [
       "0.7613417715650138"
      ]
     },
     "execution_count": 160,
     "metadata": {},
     "output_type": "execute_result"
    }
   ],
   "source": [
    "f1_score(df['target_num'], df['output_num'])"
   ]
  },
  {
   "cell_type": "code",
   "execution_count": 161,
   "id": "ba19b6d9",
   "metadata": {},
   "outputs": [
    {
     "data": {
      "text/plain": [
       "0.9216589861751151"
      ]
     },
     "execution_count": 161,
     "metadata": {},
     "output_type": "execute_result"
    }
   ],
   "source": [
    "f1_score(df['target_num'], df['output_num_avg'])"
   ]
  },
  {
   "cell_type": "code",
   "execution_count": 162,
   "id": "c0e65b9e",
   "metadata": {},
   "outputs": [
    {
     "data": {
      "text/plain": [
       "0.8304093567251462"
      ]
     },
     "execution_count": 162,
     "metadata": {},
     "output_type": "execute_result"
    }
   ],
   "source": [
    "f1_score(df['target_num'], df['output_alt_num_avg'])"
   ]
  },
  {
   "cell_type": "code",
   "execution_count": 163,
   "id": "c6293d14",
   "metadata": {},
   "outputs": [
    {
     "data": {
      "text/plain": [
       "0.99"
      ]
     },
     "execution_count": 163,
     "metadata": {},
     "output_type": "execute_result"
    }
   ],
   "source": [
    "f1_score(df['target_num'], df['output_mix_num_avg'])"
   ]
  },
  {
   "cell_type": "code",
   "execution_count": 164,
   "id": "272c291d",
   "metadata": {},
   "outputs": [],
   "source": [
    "#ok looks good - now lets see what is with the spanish one\n",
    "dfs = pd.read_csv(\"train_es_df.csv\")\n"
   ]
  },
  {
   "cell_type": "code",
   "execution_count": 165,
   "id": "9ede6541",
   "metadata": {},
   "outputs": [
    {
     "name": "stdout",
     "output_type": "stream",
     "text": [
      "<class 'pandas.core.frame.DataFrame'>\n",
      "RangeIndex: 160000 entries, 0 to 159999\n",
      "Data columns (total 5 columns):\n",
      " #   Column      Non-Null Count   Dtype \n",
      "---  ------      --------------   ----- \n",
      " 0   Unnamed: 0  160000 non-null  int64 \n",
      " 1   index       160000 non-null  int64 \n",
      " 2   input_text  160000 non-null  object\n",
      " 3   prefix      160000 non-null  object\n",
      " 4   target      160000 non-null  object\n",
      "dtypes: int64(2), object(3)\n",
      "memory usage: 6.1+ MB\n"
     ]
    }
   ],
   "source": [
    "dfs.info()"
   ]
  },
  {
   "cell_type": "code",
   "execution_count": 172,
   "id": "35e84f9a",
   "metadata": {},
   "outputs": [
    {
     "data": {
      "text/html": [
       "<div>\n",
       "<style scoped>\n",
       "    .dataframe tbody tr th:only-of-type {\n",
       "        vertical-align: middle;\n",
       "    }\n",
       "\n",
       "    .dataframe tbody tr th {\n",
       "        vertical-align: top;\n",
       "    }\n",
       "\n",
       "    .dataframe thead th {\n",
       "        text-align: right;\n",
       "    }\n",
       "</style>\n",
       "<table border=\"1\" class=\"dataframe\">\n",
       "  <thead>\n",
       "    <tr style=\"text-align: right;\">\n",
       "      <th></th>\n",
       "      <th>input_text</th>\n",
       "      <th>prefix</th>\n",
       "      <th>target</th>\n",
       "    </tr>\n",
       "  </thead>\n",
       "  <tbody>\n",
       "    <tr>\n",
       "      <th>0</th>\n",
       "      <td>rt user esperando para ver la captura de jaime...</td>\n",
       "      <td>hater classification</td>\n",
       "      <td>neutral</td>\n",
       "    </tr>\n",
       "    <tr>\n",
       "      <th>1</th>\n",
       "      <td>user user que bueno romeo con la ayuda de dios...</td>\n",
       "      <td>hater classification</td>\n",
       "      <td>neutral</td>\n",
       "    </tr>\n",
       "    <tr>\n",
       "      <th>2</th>\n",
       "      <td>rt user nuestras cuadrillas están restaurando ...</td>\n",
       "      <td>hater classification</td>\n",
       "      <td>neutral</td>\n",
       "    </tr>\n",
       "    <tr>\n",
       "      <th>3</th>\n",
       "      <td>rt user esta es la portada de hashtag de este ...</td>\n",
       "      <td>hater classification</td>\n",
       "      <td>neutral</td>\n",
       "    </tr>\n",
       "    <tr>\n",
       "      <th>4</th>\n",
       "      <td>rt user lo más matado de la risa que vas a ver...</td>\n",
       "      <td>hater classification</td>\n",
       "      <td>neutral</td>\n",
       "    </tr>\n",
       "  </tbody>\n",
       "</table>\n",
       "</div>"
      ],
      "text/plain": [
       "                                          input_text                prefix  \\\n",
       "0  rt user esperando para ver la captura de jaime...  hater classification   \n",
       "1  user user que bueno romeo con la ayuda de dios...  hater classification   \n",
       "2  rt user nuestras cuadrillas están restaurando ...  hater classification   \n",
       "3  rt user esta es la portada de hashtag de este ...  hater classification   \n",
       "4  rt user lo más matado de la risa que vas a ver...  hater classification   \n",
       "\n",
       "    target  \n",
       "0  neutral  \n",
       "1  neutral  \n",
       "2  neutral  \n",
       "3  neutral  \n",
       "4  neutral  "
      ]
     },
     "execution_count": 172,
     "metadata": {},
     "output_type": "execute_result"
    }
   ],
   "source": [
    "dfs.head()"
   ]
  },
  {
   "cell_type": "code",
   "execution_count": 171,
   "id": "ab7b285a",
   "metadata": {},
   "outputs": [],
   "source": [
    "dfs = dfs.drop(columns = ['Unnamed: 0','index'])"
   ]
  },
  {
   "cell_type": "code",
   "execution_count": 169,
   "id": "e8d5e7ff",
   "metadata": {},
   "outputs": [],
   "source": [
    "multi_model = MT5ForConditionalGeneration.from_pretrained(\"outputs/model_files\")\n",
    "multi_tokenizer = MT5Tokenizer.from_pretrained(\"outputs/model_files\")"
   ]
  },
  {
   "cell_type": "code",
   "execution_count": 170,
   "id": "7a0cf051",
   "metadata": {},
   "outputs": [],
   "source": [
    "dfs = dfs[0:40000]"
   ]
  },
  {
   "cell_type": "code",
   "execution_count": 175,
   "id": "2bcbe2c6",
   "metadata": {},
   "outputs": [],
   "source": [
    "dfs['output'] = \"\""
   ]
  },
  {
   "cell_type": "code",
   "execution_count": 176,
   "id": "dbf912c7",
   "metadata": {},
   "outputs": [],
   "source": [
    "def full_predict(df, start, stop, step, model, tokenizer):\n",
    "    for i in range(start, stop):\n",
    "        tweet = \"hater classification: \"+ df.iloc[i,0]\n",
    "        input_ids = tokenizer.encode(tweet, return_tensors = \"pt\")\n",
    "        output_ids = model.generate(input_ids)\n",
    "        output = str(tokenizer.decode(output_ids[0], skip_special_tokens=True))\n",
    "        df.iloc[i,3]=output\n",
    "        if i%step==0:\n",
    "            print(\"{} % complete\".format(i/(step/10)))\n",
    "    return df"
   ]
  },
  {
   "cell_type": "code",
   "execution_count": 177,
   "id": "417217b2",
   "metadata": {},
   "outputs": [
    {
     "name": "stdout",
     "output_type": "stream",
     "text": [
      "0.0 % complete\n",
      "0.1 % complete\n",
      "0.2 % complete\n",
      "0.3 % complete\n",
      "0.4 % complete\n",
      "0.5 % complete\n",
      "0.6 % complete\n",
      "0.7 % complete\n",
      "0.8 % complete\n",
      "0.9 % complete\n"
     ]
    }
   ],
   "source": [
    "dfs = full_predict(dfs, 0, 40000, 4000, multi_model, multi_tokenizer)"
   ]
  },
  {
   "cell_type": "code",
   "execution_count": 178,
   "id": "548e44ee",
   "metadata": {},
   "outputs": [
    {
     "name": "stdout",
     "output_type": "stream",
     "text": [
      "<class 'pandas.core.frame.DataFrame'>\n",
      "RangeIndex: 40000 entries, 0 to 39999\n",
      "Data columns (total 4 columns):\n",
      " #   Column      Non-Null Count  Dtype \n",
      "---  ------      --------------  ----- \n",
      " 0   input_text  40000 non-null  object\n",
      " 1   prefix      40000 non-null  object\n",
      " 2   target      40000 non-null  object\n",
      " 3   output      40000 non-null  object\n",
      "dtypes: object(4)\n",
      "memory usage: 1.2+ MB\n"
     ]
    }
   ],
   "source": [
    "dfs.info()"
   ]
  },
  {
   "cell_type": "code",
   "execution_count": 179,
   "id": "39428c74",
   "metadata": {},
   "outputs": [],
   "source": [
    "dfs['target_num'] = dfs['target'].parallel_apply(replace_bin)\n",
    "dfs['output_num'] = dfs['output'].parallel_apply(replace_bin)"
   ]
  },
  {
   "cell_type": "code",
   "execution_count": 180,
   "id": "baa4efe1",
   "metadata": {},
   "outputs": [
    {
     "data": {
      "text/html": [
       "<div>\n",
       "<style scoped>\n",
       "    .dataframe tbody tr th:only-of-type {\n",
       "        vertical-align: middle;\n",
       "    }\n",
       "\n",
       "    .dataframe tbody tr th {\n",
       "        vertical-align: top;\n",
       "    }\n",
       "\n",
       "    .dataframe thead th {\n",
       "        text-align: right;\n",
       "    }\n",
       "</style>\n",
       "<table border=\"1\" class=\"dataframe\">\n",
       "  <thead>\n",
       "    <tr style=\"text-align: right;\">\n",
       "      <th></th>\n",
       "      <th>target_num</th>\n",
       "      <th>output_num</th>\n",
       "    </tr>\n",
       "  </thead>\n",
       "  <tbody>\n",
       "    <tr>\n",
       "      <th>count</th>\n",
       "      <td>40000.000000</td>\n",
       "      <td>40000.000000</td>\n",
       "    </tr>\n",
       "    <tr>\n",
       "      <th>mean</th>\n",
       "      <td>0.500000</td>\n",
       "      <td>0.634400</td>\n",
       "    </tr>\n",
       "    <tr>\n",
       "      <th>std</th>\n",
       "      <td>0.500006</td>\n",
       "      <td>0.481604</td>\n",
       "    </tr>\n",
       "    <tr>\n",
       "      <th>min</th>\n",
       "      <td>0.000000</td>\n",
       "      <td>0.000000</td>\n",
       "    </tr>\n",
       "    <tr>\n",
       "      <th>25%</th>\n",
       "      <td>0.000000</td>\n",
       "      <td>0.000000</td>\n",
       "    </tr>\n",
       "    <tr>\n",
       "      <th>50%</th>\n",
       "      <td>0.500000</td>\n",
       "      <td>1.000000</td>\n",
       "    </tr>\n",
       "    <tr>\n",
       "      <th>75%</th>\n",
       "      <td>1.000000</td>\n",
       "      <td>1.000000</td>\n",
       "    </tr>\n",
       "    <tr>\n",
       "      <th>max</th>\n",
       "      <td>1.000000</td>\n",
       "      <td>1.000000</td>\n",
       "    </tr>\n",
       "  </tbody>\n",
       "</table>\n",
       "</div>"
      ],
      "text/plain": [
       "         target_num    output_num\n",
       "count  40000.000000  40000.000000\n",
       "mean       0.500000      0.634400\n",
       "std        0.500006      0.481604\n",
       "min        0.000000      0.000000\n",
       "25%        0.000000      0.000000\n",
       "50%        0.500000      1.000000\n",
       "75%        1.000000      1.000000\n",
       "max        1.000000      1.000000"
      ]
     },
     "execution_count": 180,
     "metadata": {},
     "output_type": "execute_result"
    }
   ],
   "source": [
    "dfs.describe()"
   ]
  },
  {
   "cell_type": "code",
   "execution_count": 181,
   "id": "66550f30",
   "metadata": {},
   "outputs": [
    {
     "data": {
      "text/plain": [
       "0.7659114950634698"
      ]
     },
     "execution_count": 181,
     "metadata": {},
     "output_type": "execute_result"
    }
   ],
   "source": [
    "f1_score(dfs['target_num'], dfs['output_num'])"
   ]
  },
  {
   "cell_type": "code",
   "execution_count": 182,
   "id": "89ceb272",
   "metadata": {},
   "outputs": [],
   "source": [
    "def assign_top(df,step=200):\n",
    "    for i in range(0, int(df.shape[0]/step)):\n",
    "        df.loc[i*step:(i+1)*step-1,'output_num_avg'] = int(round(df.loc[i*step:(i+1)*step-1,'output_num'].mean()))\n",
    "    return df"
   ]
  },
  {
   "cell_type": "code",
   "execution_count": 183,
   "id": "53399a75",
   "metadata": {},
   "outputs": [],
   "source": [
    "dfs = assign_top(dfs)"
   ]
  },
  {
   "cell_type": "code",
   "execution_count": 184,
   "id": "ac60c072",
   "metadata": {},
   "outputs": [
    {
     "data": {
      "text/html": [
       "<div>\n",
       "<style scoped>\n",
       "    .dataframe tbody tr th:only-of-type {\n",
       "        vertical-align: middle;\n",
       "    }\n",
       "\n",
       "    .dataframe tbody tr th {\n",
       "        vertical-align: top;\n",
       "    }\n",
       "\n",
       "    .dataframe thead th {\n",
       "        text-align: right;\n",
       "    }\n",
       "</style>\n",
       "<table border=\"1\" class=\"dataframe\">\n",
       "  <thead>\n",
       "    <tr style=\"text-align: right;\">\n",
       "      <th></th>\n",
       "      <th>target_num</th>\n",
       "      <th>output_num</th>\n",
       "      <th>output_num_avg</th>\n",
       "    </tr>\n",
       "  </thead>\n",
       "  <tbody>\n",
       "    <tr>\n",
       "      <th>count</th>\n",
       "      <td>40000.000000</td>\n",
       "      <td>40000.000000</td>\n",
       "      <td>40000.000000</td>\n",
       "    </tr>\n",
       "    <tr>\n",
       "      <th>mean</th>\n",
       "      <td>0.500000</td>\n",
       "      <td>0.634400</td>\n",
       "      <td>0.650000</td>\n",
       "    </tr>\n",
       "    <tr>\n",
       "      <th>std</th>\n",
       "      <td>0.500006</td>\n",
       "      <td>0.481604</td>\n",
       "      <td>0.476976</td>\n",
       "    </tr>\n",
       "    <tr>\n",
       "      <th>min</th>\n",
       "      <td>0.000000</td>\n",
       "      <td>0.000000</td>\n",
       "      <td>0.000000</td>\n",
       "    </tr>\n",
       "    <tr>\n",
       "      <th>25%</th>\n",
       "      <td>0.000000</td>\n",
       "      <td>0.000000</td>\n",
       "      <td>0.000000</td>\n",
       "    </tr>\n",
       "    <tr>\n",
       "      <th>50%</th>\n",
       "      <td>0.500000</td>\n",
       "      <td>1.000000</td>\n",
       "      <td>1.000000</td>\n",
       "    </tr>\n",
       "    <tr>\n",
       "      <th>75%</th>\n",
       "      <td>1.000000</td>\n",
       "      <td>1.000000</td>\n",
       "      <td>1.000000</td>\n",
       "    </tr>\n",
       "    <tr>\n",
       "      <th>max</th>\n",
       "      <td>1.000000</td>\n",
       "      <td>1.000000</td>\n",
       "      <td>1.000000</td>\n",
       "    </tr>\n",
       "  </tbody>\n",
       "</table>\n",
       "</div>"
      ],
      "text/plain": [
       "         target_num    output_num  output_num_avg\n",
       "count  40000.000000  40000.000000    40000.000000\n",
       "mean       0.500000      0.634400        0.650000\n",
       "std        0.500006      0.481604        0.476976\n",
       "min        0.000000      0.000000        0.000000\n",
       "25%        0.000000      0.000000        0.000000\n",
       "50%        0.500000      1.000000        1.000000\n",
       "75%        1.000000      1.000000        1.000000\n",
       "max        1.000000      1.000000        1.000000"
      ]
     },
     "execution_count": 184,
     "metadata": {},
     "output_type": "execute_result"
    }
   ],
   "source": [
    "dfs.describe()"
   ]
  },
  {
   "cell_type": "code",
   "execution_count": 185,
   "id": "27e66e5d",
   "metadata": {},
   "outputs": [
    {
     "data": {
      "text/plain": [
       "0.8434782608695651"
      ]
     },
     "execution_count": 185,
     "metadata": {},
     "output_type": "execute_result"
    }
   ],
   "source": [
    "f1_score(dfs['target_num'], dfs['output_num_avg'])"
   ]
  },
  {
   "cell_type": "code",
   "execution_count": null,
   "id": "85331e57",
   "metadata": {},
   "outputs": [],
   "source": [
    "#let's ch"
   ]
  }
 ],
 "metadata": {
  "environment": {
   "name": "pytorch-gpu.1-8.m69",
   "type": "gcloud",
   "uri": "gcr.io/deeplearning-platform-release/pytorch-gpu.1-8:m69"
  },
  "kernelspec": {
   "display_name": "Python 3",
   "language": "python",
   "name": "python3"
  },
  "language_info": {
   "codemirror_mode": {
    "name": "ipython",
    "version": 3
   },
   "file_extension": ".py",
   "mimetype": "text/x-python",
   "name": "python",
   "nbconvert_exporter": "python",
   "pygments_lexer": "ipython3",
   "version": "3.7.10"
  }
 },
 "nbformat": 4,
 "nbformat_minor": 5
}
